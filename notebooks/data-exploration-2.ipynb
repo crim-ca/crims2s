{
 "cells": [
  {
   "cell_type": "code",
   "execution_count": null,
   "id": "3b4b9862-f445-4ae8-a748-72d0594d8b16",
   "metadata": {},
   "outputs": [],
   "source": [
    "%load_ext autoreload\n",
    "%autoreload 2"
   ]
  },
  {
   "cell_type": "code",
   "execution_count": null,
   "id": "6b80cc8a-69f4-44c5-b7a7-efd95d567a68",
   "metadata": {},
   "outputs": [],
   "source": [
    "import pathlib\n",
    "import xarray as xr"
   ]
  },
  {
   "cell_type": "code",
   "execution_count": null,
   "id": "426fe2d0-8620-4596-95aa-2ee9bcb45532",
   "metadata": {},
   "outputs": [],
   "source": [
    "INPUT_TRAIN = '***HOME***hdd_scratch/s2s/training-input/0.3.0/netcdf'\n",
    "input_path = pathlib.Path(INPUT_TRAIN)"
   ]
  },
  {
   "cell_type": "code",
   "execution_count": null,
   "id": "fc8ec8bd-71f3-4c76-b1b8-5eea2eb4de20",
   "metadata": {},
   "outputs": [],
   "source": []
  },
  {
   "cell_type": "code",
   "execution_count": null,
   "id": "fcfa55db-c07b-4df7-873b-6a4f307442a0",
   "metadata": {
    "tags": []
   },
   "outputs": [],
   "source": [
    "!ls {INPUT_TRAIN}"
   ]
  },
  {
   "cell_type": "code",
   "execution_count": null,
   "id": "e38fe9d6-bdb1-4f13-933c-7a03408faf13",
   "metadata": {},
   "outputs": [],
   "source": [
    "d = xr.open_dataset(INPUT_TRAIN + '/eccc-hindcast-t-20200102.nc')"
   ]
  },
  {
   "cell_type": "code",
   "execution_count": null,
   "id": "0f6b3f1d-42ac-4953-b217-42defaffc8bf",
   "metadata": {},
   "outputs": [],
   "source": [
    "d"
   ]
  },
  {
   "cell_type": "code",
   "execution_count": null,
   "id": "0a7093f1-ee1d-4d6c-add1-e2f285c557a7",
   "metadata": {},
   "outputs": [],
   "source": [
    "d.lead_time.data.astype('timedelta64[D]')"
   ]
  },
  {
   "cell_type": "code",
   "execution_count": null,
   "id": "931e1c21-0276-4f7a-b15f-619328191750",
   "metadata": {},
   "outputs": [],
   "source": [
    "d.t"
   ]
  },
  {
   "cell_type": "code",
   "execution_count": null,
   "id": "92431159-7c5e-4a3d-87e0-ec44b98879e7",
   "metadata": {},
   "outputs": [],
   "source": [
    "d.isel(realization=0, forecast_time=0, lead_time=21, plev=0).t.plot()"
   ]
  },
  {
   "cell_type": "code",
   "execution_count": null,
   "id": "1ee86d18-2ea3-4fd0-9709-96560c26dd11",
   "metadata": {},
   "outputs": [],
   "source": [
    "files = [f for f in input_path.iterdir() if 'ncep' in f.stem]"
   ]
  },
  {
   "cell_type": "code",
   "execution_count": null,
   "id": "cb454213-35fa-4ed4-adc9-6f9c05b5be57",
   "metadata": {},
   "outputs": [],
   "source": [
    "unique_vars = set({})\n",
    "for f in files:\n",
    "    unique_vars.add(f.stem.split('-')[2])\n",
    "    "
   ]
  },
  {
   "cell_type": "code",
   "execution_count": null,
   "id": "1db9f002-8513-41e8-9497-da8155eea767",
   "metadata": {},
   "outputs": [],
   "source": [
    "len(unique_vars)"
   ]
  },
  {
   "cell_type": "code",
   "execution_count": null,
   "id": "6e1b4ac2-1cd6-4942-b99c-1dc42de6a2d0",
   "metadata": {},
   "outputs": [],
   "source": [
    "unique_vars"
   ]
  },
  {
   "cell_type": "code",
   "execution_count": null,
   "id": "1e9b3fd6-fdd1-40a1-ae8b-9b5e99478458",
   "metadata": {},
   "outputs": [],
   "source": []
  }
 ],
 "metadata": {
  "kernelspec": {
   "display_name": "Python 3",
   "language": "python",
   "name": "python3"
  },
  "language_info": {
   "codemirror_mode": {
    "name": "ipython",
    "version": 3
   },
   "file_extension": ".py",
   "mimetype": "text/x-python",
   "name": "python",
   "nbconvert_exporter": "python",
   "pygments_lexer": "ipython3",
   "version": "3.8.10"
  }
 },
 "nbformat": 4,
 "nbformat_minor": 5
}
