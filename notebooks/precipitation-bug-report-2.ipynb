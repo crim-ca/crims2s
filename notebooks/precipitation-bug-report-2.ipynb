{
 "cells": [
  {
   "cell_type": "code",
   "execution_count": null,
   "metadata": {},
   "outputs": [],
   "source": [
    "%load_ext autoreload\n",
    "%autoreload 2"
   ]
  },
  {
   "cell_type": "code",
   "execution_count": null,
   "metadata": {},
   "outputs": [],
   "source": [
    "import climetlab as cml\n",
    "import climetlab_s2s_ai_challenge"
   ]
  },
  {
   "cell_type": "code",
   "execution_count": null,
   "metadata": {},
   "outputs": [],
   "source": [
    "def fix_dataset_dims(d):\n",
    "    day_of_year = d.forecast_time[0].dt.dayofyear.data.item()\n",
    "\n",
    "    new_d = d.expand_dims(\"forecast_dayofyear\").assign_coords(\n",
    "        forecast_dayofyear=[day_of_year]\n",
    "    )\n",
    "    new_d = new_d.assign_coords(forecast_year=new_d.forecast_time.dt.year).swap_dims(\n",
    "        forecast_time=\"forecast_year\"\n",
    "    )\n",
    "\n",
    "    dims = set(new_d.dims)\n",
    "    dims.difference_update(\n",
    "        (\"forecast_dayofyear\", \"forecast_year\", \"latitude\", \"longitude\")\n",
    "    )\n",
    "\n",
    "    new_d = new_d.transpose(\n",
    "        \"forecast_year\", \"forecast_dayofyear\", *dims, \"latitude\", \"longitude\"\n",
    "    )\n",
    "\n",
    "    return new_d"
   ]
  },
  {
   "cell_type": "markdown",
   "metadata": {},
   "source": [
    "# First surprise"
   ]
  },
  {
   "cell_type": "code",
   "execution_count": null,
   "metadata": {},
   "outputs": [],
   "source": [
    "cmlds = cml.load_dataset(\"s2s-ai-challenge-training-output-reference\",\n",
    "                         date = 20200220,\n",
    "                         parameter='tp'                         \n",
    "                       )\n",
    "\n",
    "xrds = fix_dataset_dims(cmlds.to_xarray())"
   ]
  },
  {
   "cell_type": "code",
   "execution_count": null,
   "metadata": {},
   "outputs": [],
   "source": [
    "xrds.sel(forecast_year=2012).isnull().sum(dim=['latitude', 'longitude']).tp.plot()"
   ]
  },
  {
   "cell_type": "markdown",
   "metadata": {},
   "source": [
    "Numer of null values increases after a certain lead time. \n",
    "I think there are many cases of this in the dataset."
   ]
  },
  {
   "cell_type": "markdown",
   "metadata": {},
   "source": [
    "Here is an example of correct lead time."
   ]
  },
  {
   "cell_type": "code",
   "execution_count": null,
   "metadata": {},
   "outputs": [],
   "source": [
    "xrds.sel(forecast_year=2012).isel(lead_time=5).tp.plot()"
   ]
  },
  {
   "cell_type": "markdown",
   "metadata": {},
   "source": [
    "Lead time 20 has only nulls."
   ]
  },
  {
   "cell_type": "code",
   "execution_count": null,
   "metadata": {},
   "outputs": [],
   "source": [
    "xrds.sel(forecast_year=2012).isel(lead_time=20).tp.plot()"
   ]
  },
  {
   "cell_type": "markdown",
   "metadata": {},
   "source": [
    "# Second surprise"
   ]
  },
  {
   "cell_type": "code",
   "execution_count": null,
   "metadata": {},
   "outputs": [],
   "source": [
    "cmlds = cml.load_dataset(\"s2s-ai-challenge-training-output-reference\",\n",
    "                         date = 20200326,\n",
    "                         parameter='tp'                         \n",
    "                       )\n",
    "\n",
    "xrds = fix_dataset_dims(cmlds.to_xarray())"
   ]
  },
  {
   "cell_type": "code",
   "execution_count": null,
   "metadata": {},
   "outputs": [],
   "source": [
    "xrds.forecast_dayofyear"
   ]
  },
  {
   "cell_type": "code",
   "execution_count": null,
   "metadata": {},
   "outputs": [],
   "source": [
    "xrds.isel(lead_time=1).sel(forecast_year=2015, forecast_dayofyear=86).tp.plot()"
   ]
  },
  {
   "cell_type": "markdown",
   "metadata": {},
   "source": [
    "Note the gap inside of Africa. \n",
    "I saw different gaps of differents sizes in that same region."
   ]
  },
  {
   "cell_type": "code",
   "execution_count": null,
   "metadata": {},
   "outputs": [],
   "source": []
  }
 ],
 "metadata": {
  "kernelspec": {
   "display_name": "S2S Challenge",
   "language": "python",
   "name": "s2s"
  },
  "language_info": {
   "codemirror_mode": {
    "name": "ipython",
    "version": 3
   },
   "file_extension": ".py",
   "mimetype": "text/x-python",
   "name": "python",
   "nbconvert_exporter": "python",
   "pygments_lexer": "ipython3",
   "version": "3.8.10"
  }
 },
 "nbformat": 4,
 "nbformat_minor": 4
}
