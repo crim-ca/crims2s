{
 "cells": [
  {
   "cell_type": "code",
   "execution_count": null,
   "metadata": {},
   "outputs": [],
   "source": [
    "%load_ext autoreload\n",
    "%autoreload 2"
   ]
  },
  {
   "cell_type": "markdown",
   "metadata": {},
   "source": [
    "# Validation Notebook"
   ]
  },
  {
   "cell_type": "code",
   "execution_count": null,
   "metadata": {},
   "outputs": [],
   "source": [
    "import xarray as xr\n",
    "import xskillscore as xs\n",
    "import hydra\n",
    "import numpy as np\n",
    "import os\n",
    "import datetime\n",
    "from IPython.display import display\n",
    "from matplotlib import pyplot as plt"
   ]
  },
  {
   "cell_type": "code",
   "execution_count": null,
   "metadata": {},
   "outputs": [],
   "source": [
    "import warnings\n",
    "warnings.filterwarnings(\"ignore\")"
   ]
  },
  {
   "cell_type": "code",
   "execution_count": null,
   "metadata": {},
   "outputs": [],
   "source": [
    "with hydra.initialize_config_module('crims2s.conf'):\n",
    "    mldataset_cfg = hydra.compose('mldataset')"
   ]
  },
  {
   "cell_type": "code",
   "execution_count": null,
   "metadata": {},
   "outputs": [],
   "source": [
    "LAST_VALIDATION_FILE = \"***BASEDIR***/last-validation-files-from-organizers/forecast-like-observations_2020_biweekly_terciled.nc\""
   ]
  },
  {
   "cell_type": "code",
   "execution_count": null,
   "metadata": {},
   "outputs": [],
   "source": [
    "xr.set_options(keep_attrs=True)\n",
    "#xr.set_options(display_style='text')"
   ]
  },
  {
   "cell_type": "code",
   "execution_count": null,
   "metadata": {},
   "outputs": [],
   "source": [
    "SHOW_VISUALISATIONS: bool = False\n",
    "\n",
    "EXPORT_DATA: bool = False\n",
    "    \n",
    "COMPUTE_EACH_TROPICS: bool = False"
   ]
  },
  {
   "cell_type": "code",
   "execution_count": null,
   "metadata": {},
   "outputs": [],
   "source": [
    "OUTPUT = '***BASEDIR***'\n",
    "OUTPUT = \"***BASEDIR***/last-validation-files-from-organizers\"\n",
    "EDGES_FILE = ''\n",
    "\n",
    "EXPORT_PATH = '***HOME***Projets/S2S-Competition/outputs'\n",
    "CMAP = \"coolwarm\"\n",
    "\n",
    "CMAP = \"RdYlGn\""
   ]
  },
  {
   "cell_type": "markdown",
   "metadata": {},
   "source": [
    "# Validation class"
   ]
  },
  {
   "cell_type": "code",
   "execution_count": null,
   "metadata": {},
   "outputs": [],
   "source": [
    "def skill_by_year(preds, adapt=False):\n",
    "    \"\"\"Returns pd.Dataframe of RPSS per year.\"\"\"\n",
    "    # similar verification_RPSS.ipynb\n",
    "    # as scorer bot but returns a score for each year\n",
    "    import xarray as xr\n",
    "    import xskillscore as xs\n",
    "    import pandas as pd\n",
    "    import numpy as np\n",
    "    xr.set_options(keep_attrs=True)\n",
    "    \n",
    "    if 2020 in preds.forecast_time.dt.year:\n",
    "        obs_p = xr.open_dataset(LAST_VALIDATION_FILE).sel(forecast_time=preds.forecast_time)\n",
    "    else:\n",
    "        obs_p = xr.open_dataset(f'{cache_path}/hindcast-like-observations_2000-2019_biweekly_terciled.zarr', engine='zarr').sel(forecast_time=preds.forecast_time)\n",
    "    \n",
    "    # ML probabilities\n",
    "    fct_p = preds\n",
    "\n",
    "    \n",
    "    # climatology\n",
    "    clim_p = xr.DataArray([1/3, 1/3, 1/3], dims='category', coords={'category':['below normal', 'near normal', 'above normal']}).to_dataset(name='tp')\n",
    "    clim_p['t2m'] = clim_p['tp']\n",
    "    \n",
    "    if adapt:\n",
    "        # select only obs_p where fct_p forecasts provided\n",
    "        for c in ['longitude', 'latitude', 'forecast_time', 'lead_time']:\n",
    "            obs_p = obs_p.sel({c:fct_p[c]})\n",
    "        obs_p = obs_p[list(fct_p.data_vars)]\n",
    "        clim_p = clim_p[list(fct_p.data_vars)]\n",
    "    \n",
    "    else:\n",
    "        pass\n",
    "        \n",
    "    # rps_ML\n",
    "    rps_ML = xs.rps(obs_p, fct_p, category_edges=None, dim=[], input_distributions='p').compute()\n",
    "    # rps_clim\n",
    "    rps_clim = xs.rps(obs_p, clim_p, category_edges=None, dim=[], input_distributions='p').compute()\n",
    "\n",
    "    ## RPSS\n",
    "    # penalize # https://renkulab.io/gitlab/aaron.spring/s2s-ai-challenge-template/-/issues/7\n",
    "    expect = obs_p.sum('category')\n",
    "    expect = expect.where(expect > 0.98).where(expect < 1.02)  # should be True if not all NaN\n",
    "\n",
    "    # https://renkulab.io/gitlab/aaron.spring/s2s-ai-challenge-template/-/issues/50\n",
    "    rps_ML = rps_ML.where(expect, other=2)  # assign RPS=2 where value was expected but NaN found\n",
    "\n",
    "    # following Weigel 2007: https://doi.org/10.1175/MWR3280.1\n",
    "    rpss = 1 - (rps_ML.groupby('forecast_time.year').mean() / rps_clim.groupby('forecast_time.year').mean())\n",
    "    # clip\n",
    "    rpss = rpss.clip(-10, 1)\n",
    "    \n",
    "    # weighted area mean\n",
    "    weights = np.cos(np.deg2rad(np.abs(rpss.latitude)))\n",
    "    # spatially weighted score averaged over lead_times and variables to one single value\n",
    "    scores = rpss.sel(latitude=slice(None, -60)).weighted(weights).mean('latitude').mean('longitude')\n",
    "    scores = scores.to_array().mean(['lead_time', 'variable'])\n",
    "    return scores.to_dataframe('RPSS')\n"
   ]
  },
  {
   "cell_type": "code",
   "execution_count": null,
   "metadata": {},
   "outputs": [],
   "source": [
    "def create_climatology() -> xr.DataArray:\n",
    "    clim_p = xr.DataArray([1/3, 1/3, 1/3], dims='category', coords={'category':['below normal', 'near normal', 'above normal']}).to_dataset(name='tp')\n",
    "    clim_p['t2m'] = clim_p['tp']\n",
    "\n",
    "    return clim_p"
   ]
  },
  {
   "cell_type": "code",
   "execution_count": null,
   "metadata": {},
   "outputs": [],
   "source": [
    "import os\n",
    "import xarray as xr\n",
    "import pandas as pd\n",
    "import cartopy.crs as ccrs\n",
    "\n",
    "\n",
    "class Validation():\n",
    "    def __init__(self, obs: xr.Dataset, preds: xr.Dataset, edges: xr.Dataset, use_dry_mask=False) -> None:\n",
    "        \n",
    "       \n",
    "        self.obs: xr.Dataset = obs\n",
    "        self.preds: xr.Dataset = preds\n",
    "            \n",
    "        self.rps_ml: xr.Dataset = xr.Dataset()\n",
    "        self.rps_clim: xr.Dataset = xr.Dataset()\n",
    "            \n",
    "        self.regions_positions: dict = {'North_America': (slice(0, 50), slice(120, 300)),\n",
    "                                        'South_America': (slice(40, 100), slice(150, 300)),\n",
    "                                        'Europe_Africa_Asia': (slice(0, 100), slice(0, 60)),\n",
    "                                        'Oceania': (slice(50, 100), slice(70, 120))}\n",
    "            \n",
    "        self.regions_positions_orthographic: dict = {'North_America': (-80, 25),\n",
    "                                                     'South_America': (-60, -15),\n",
    "                                                     'Europe_Africa_Asia': (50, 25),\n",
    "                                                     'Oceania': (120, 1)}\n",
    "            \n",
    "        self.__assert_predictions_2020(self.obs)\n",
    "        self.__assert_predictions_2020(self.preds)\n",
    "        \n",
    "        self.use_dry_mask = use_dry_mask\n",
    "        print(\"Validation class successfully initialised\")\n",
    "        \n",
    "      \n",
    "        \n",
    "    def __assert_predictions_2020(self, preds_test) -> None:\n",
    "        \"\"\"\n",
    "        REFORMAT FROM ORGANIZERS NOTEBOOKS\n",
    "        Check the variables, coordinates and dimensions of 2020 predictions.\n",
    "        \"\"\"\n",
    "        \n",
    "        # is dataset\n",
    "        assert isinstance(preds_test, xr.Dataset)\n",
    "\n",
    "        # has both vars: tp and t2m\n",
    "        assert 'tp' in preds_test.data_vars\n",
    "        assert 't2m' in preds_test.data_vars\n",
    "\n",
    "        ## coords\n",
    "        # forecast_time\n",
    "        d = pd.date_range(start='2020-01-02', freq='7D', periods=53)\n",
    "        forecast_time = xr.DataArray(d, dims='forecast_time', coords={'forecast_time':d})\n",
    "        assert (forecast_time == preds_test['forecast_time']).all()\n",
    "\n",
    "        # longitude\n",
    "        lon = np.arange(0., 360., 1.5)\n",
    "        longitude = xr.DataArray(lon, dims='longitude', coords={'longitude': lon})\n",
    "        assert (longitude == preds_test['longitude']).all()\n",
    "\n",
    "        # latitude\n",
    "        lat = np.arange(90., -90.1, 1.5)\n",
    "        latitude = xr.DataArray(lat, dims='latitude', coords={'latitude': lat})\n",
    "        assert (latitude == preds_test['latitude']).all()\n",
    "        \n",
    "        # LATITUDE DEFINITION ACCORDING TO SCORING SCRIPT\n",
    "        #assert (preds_test.latitude.diff('latitude')==-1.5).all()\n",
    "        #assert 60 in preds_test.latitude\n",
    "        #assert -60 in preds_test.latitude\n",
    "\n",
    "        # lead_time\n",
    "        lead = [pd.Timedelta(f'{i} d') for i in [14, 28]]\n",
    "        lead_time = xr.DataArray(lead, dims='lead_time', coords={'lead_time': lead})\n",
    "        assert (lead_time == preds_test['lead_time']).all()\n",
    "\n",
    "        # category\n",
    "        cat = np.array(['below normal', 'near normal', 'above normal'], dtype='<U12')\n",
    "        category = xr.DataArray(cat, dims='category', coords={'category': cat})\n",
    "        assert (category == preds_test['category']).all()\n",
    "\n",
    "        # size\n",
    "        #from dask.utils import format_bytes\n",
    "        #size_in_MB = float(format_bytes(preds_test.nbytes).split(' ')[0])\n",
    "        #assert size_in_MB > 50\n",
    "        #assert size_in_MB < 250\n",
    "\n",
    "        # no other dims\n",
    "        assert set(preds_test.dims) - {'category', 'forecast_time', 'latitude', 'lead_time', 'longitude'} == set()\n",
    "        \n",
    "        \n",
    "    def compute_RPS(self, preds, obs, dim=['forecast_time']):          \n",
    "        climatology = create_climatology()\n",
    "        \n",
    "        rps_clim_t2m = xs.rps(obs.t2m, climatology.t2m, category_edges=None, dim=dim, input_distributions='p').compute()  \n",
    "        if self.use_dry_mask:\n",
    "            rps_clim_tp = self.__compute_rps_with_dry_mask(obs.tp, climatology.tp)\n",
    "        else:\n",
    "            rps_clim_tp = xs.rps(obs.tp, climatology.tp, category_edges=None, dim=dim, input_distributions='p').compute()\n",
    "        rps_clim = xr.merge([rps_clim_t2m, rps_clim_tp])\n",
    "        \n",
    "        rps_ml_t2m = xs.rps(obs.t2m, preds.t2m, category_edges=None, dim=dim, input_distributions='p').compute()  \n",
    "        if self.use_dry_mask:\n",
    "            rps_ml_tp = self.__compute_rps_with_dry_mask(obs.tp, preds.tp)\n",
    "        else:\n",
    "            rps_ml_tp = xs.rps(obs.tp, preds.tp, category_edges=None, dim=dim, input_distributions='p').compute()\n",
    "        \n",
    "        rps_ml = xr.merge([rps_ml_t2m, rps_ml_tp])\n",
    "\n",
    "        return rps_ml, rps_clim\n",
    "    \n",
    "    def __compute_rps_with_dry_mask(self, reference, model):\n",
    "        dry_mask = (edges.isel(category_edge = 1) < 1.0).tp\n",
    "        \n",
    "        reference_where_wet = reference.where(~dry_mask.sel(forecast_time=reference.forecast_time), other=np.nan).drop('category_edge')        \n",
    "        model_where_wet = model.where(~dry_mask.sel(forecast_time=reference.forecast_time), other=np.nan).drop('category_edge')\n",
    "        \n",
    "        return xs.rps(reference_where_wet, model_where_wet, category_edges=None, dim=['forecast_time'], input_distributions='p').compute()\n",
    "            \n",
    "    def plot_rps(self) -> None:\n",
    "        \n",
    "        rps_ml, rps_clim = self.compute_RPS(self.preds, self.obs)\n",
    "        \n",
    "        for v in rps_ml.data_vars:\n",
    "            data_var = rps_clim[v]\n",
    "            data_var.where(data_var.latitude > -60., drop=True).plot(robust=True, col='lead_time', figsize=(10,5))\n",
    "\n",
    "        for v in self.rps_clim.data_vars:\n",
    "            data_var = rps_clim[v]\n",
    "            data_var.where(data_var.latitude > -60., drop=True).plot(robust=True, col='lead_time', figsize=(10,5))\n",
    "        \n",
    "    def __compute_tropic_mask(self, rpss: xr.Dataset) -> xr.Dataset:\n",
    "        \n",
    "        mask = xr.ones_like(rpss.isel(lead_time=0, drop=True)).reset_coords(drop=True).t2m\n",
    "        boundary_tropics = 30\n",
    "        mask = xr.concat([mask.where(mask.latitude > boundary_tropics),\n",
    "                          mask.where(np.abs(mask.latitude) <= boundary_tropics),\n",
    "                          mask.where((mask.latitude < -boundary_tropics) & (mask.latitude > -60))], 'area')\n",
    "        mask = mask.assign_coords(area=['northern_extratropics', 'tropics', 'southern_extratropics'])\n",
    "        mask.name = 'area'\n",
    "\n",
    "        return mask.where(rpss.t2m.isel(lead_time=0, drop=True).notnull())\n",
    "    \n",
    "    def __compute_each_tropic_mask(self, rpss: xr.Dataset) -> xr.Dataset:\n",
    "        \n",
    "        mask = xr.ones_like(rpss.isel(lead_time=0, drop=True)).reset_coords(drop=True).t2m\n",
    "\n",
    "        it = [i for i in range(int(self.preds.latitude.data.min()), int(self.preds.latitude.data.max()) + 1, 10)]\n",
    "        mask_tropics = list()\n",
    "        tropic_name = list()\n",
    "        for i in range(len(it)):      \n",
    "            if i + 1 < len(it):\n",
    "                up = it[i+1]\n",
    "            else:\n",
    "                break\n",
    "\n",
    "            tropic_name.append(str(it[i]) + \" - \" + str(up))\n",
    "            mask_tropics.append(mask.where((mask.latitude >= it[i]) & (mask.latitude < up)))\n",
    "\n",
    "        mask = xr.concat(mask_tropics, 'area')\n",
    "        mask = mask.assign_coords(area=tropic_name)\n",
    "        mask.name = 'area'\n",
    "        \n",
    "        return mask.where(rpss.t2m.isel(lead_time=0, drop=True).notnull())\n",
    "    \n",
    "    def __compute_rpss_organizers(self, rps_ml, rps_clim) -> xr.Dataset:\n",
    "        print(rps_ml)\n",
    "        return (1 - rps_ml.mean(dim=['latitude', 'longitude']) / rps_clim.mean(dim=['latitude', 'longitude']))\n",
    "    \n",
    "    def compute_scores_from_scoring_image(self):\n",
    "        \n",
    "        \"\"\"\n",
    "        Compute scores from scoring image provide by organizers\n",
    "        CARREFUL : when assert prediction, latitude are not define as Renku repository !!!\n",
    "        \"\"\"\n",
    "\n",
    "        rps_ML, rps_clim = self.compute_RPS(self.preds, self.obs, dim=[])\n",
    "        \n",
    "        \n",
    "        self.rpl_ML = rps_ML\n",
    "        self.rps_clim = rps_clim\n",
    "\n",
    "        # submission rpss wrt climatology\n",
    "        \n",
    "        expect = self.obs.sum('category')\n",
    "        expect = expect.where(expect > 0.98).where(expect < 1.02)  # should be True if not all NaN\n",
    "        rps_ML = rps_ML.where(expect, other=2)  # assign RPS=2 where value was expected but NaN found\n",
    "\n",
    "        rpss = (1 - rps_ML.groupby('forecast_time.year').mean() / rps_clim.groupby('forecast_time.year').mean())\n",
    "        \n",
    "\n",
    "        # https://renkulab.io/gitlab/aaron.spring/s2s-ai-challenge-template/-/issues/7\n",
    "        # penalize\n",
    "        penalize = self.obs.where(self.preds!=1, other=-10).mean('category')\n",
    "        \n",
    "        print(penalize)\n",
    "        \n",
    "        rpss = rpss.where(penalize!=0,other=-10)\n",
    "\n",
    "        # clip\n",
    "        rpss = rpss.clip(-10, 1)\n",
    "\n",
    "        # average over all forecasts\n",
    "        rpss = rpss.mean('forecast_time')\n",
    "        \n",
    "        \n",
    "\n",
    "        # weighted area mean\n",
    "        weights = np.cos(np.deg2rad(np.abs(rpss.latitude)))\n",
    "        # spatially weighted score averaged over lead_times and variables to one single value\n",
    "        scores = rpss.sel(latitude=slice(None, -60)).weighted(weights).mean('latitude').mean('longitude')\n",
    "        \n",
    "        print(scores.to_array().mean('lead_time'))\n",
    "        \n",
    "        scores = scores.to_array().mean(['lead_time', 'variable']).reset_coords(drop=True)\n",
    "        # score transfered to leaderboard\n",
    "        return scores.item()\n",
    "          \n",
    "    def compute_scores_from_organizers_RPSS(self, compute_each_tropics=False) -> pd.DataFrame:\n",
    "        \"\"\"\n",
    "        REFORMAT FROM ORGANIZERS NOTEBOOKS\n",
    "        Compute RPSS according to notebook organizers\n",
    "        \"\"\"\n",
    "        \n",
    "        rps_ml, rps_clim = self.compute_RPS(self.preds, self.obs)\n",
    "        \n",
    "        rpss_organizers = self.__compute_rpss_organizers(rps_ml, rps_clim)\n",
    "        \n",
    "        mask = (self.__compute_each_tropic_mask(rps_ml) if compute_each_tropics else self.__compute_tropic_mask(rps_ml))\n",
    "        weights = np.cos(np.deg2rad(np.abs(mask.latitude)))\n",
    "        \n",
    "        \n",
    "        \n",
    "        scores = (rpss_organizers*mask).weighted(weights).mean('latitude').mean('longitude')\n",
    "        \n",
    "        return scores.reset_coords(drop=True).to_dataframe().unstack(0).T.round(2)\n",
    "        \n",
    "    def compute_scores_from_arlan_RPSS(self, compute_each_tropics=False) -> pd.DataFrame:\n",
    "        \"\"\"\n",
    "        Compute RPSS according to Arlan's definition\n",
    "        \"\"\"\n",
    "        \n",
    "        rps_ml, rps_clim = self.compute_RPS(self.preds, self.obs)\n",
    "        \n",
    "        mask = (self.__compute_each_tropic_mask(rps_ml) if compute_each_tropics else self.__compute_tropic_mask(rps_ml))\n",
    "        weights = np.cos(np.deg2rad(np.abs(mask.latitude)))\n",
    "        \n",
    "        latitude_longitude_mean_ML = (rps_ml*mask).weighted(weights).mean(dim=['latitude', 'longitude'])\n",
    "        latitude_longitude_mean_clim = (rps_clim*mask).weighted(weights).mean(dim=['latitude', 'longitude'])\n",
    "        \n",
    "        rpss_arlan = 1 - latitude_longitude_mean_ML/latitude_longitude_mean_clim\n",
    "                \n",
    "        return rpss_arlan.reset_coords(drop=True).to_dataframe().unstack(0).T.round(2)\n",
    "    \n",
    "    def __extract_from_month(self, xr_data: xr.Dataset, month: int) -> xr.Dataset:\n",
    "        mask = xr_data.forecast_time.dt.month == month        \n",
    "        return xr_data.sel(forecast_time=mask)\n",
    "    \n",
    "    def compute_monthly_scores(self, compute_each_tropics:bool = False) -> pd.DataFrame:\n",
    "        \n",
    "        scores_dict: dict = dict()\n",
    "        date_list:list = list()\n",
    "        for month in range(1, 13):                       \n",
    "            #date = (str(\"2020-0\") + str(month+1) if month + 1 <= 9 else str(\"2020-\") + str(month+1))\n",
    "            \n",
    "            obs = self.__extract_from_month(xr_data = self.obs, month=month)\n",
    "            preds = self.__extract_from_month(xr_data = self.preds, month=month)          \n",
    "            rps_ml, rps_clim = self.compute_RPS(preds, obs)          \n",
    "            rpss_organizers = self.__compute_rpss_organizers(rps_ml, rps_clim)\n",
    "            \n",
    "            mask = (self.__compute_each_tropic_mask(rps_ml) if compute_each_tropics else self.__compute_tropic_mask(rps_ml))\n",
    "            weights = np.cos(np.deg2rad(np.abs(mask.latitude)))\n",
    "            \n",
    "            scores = ((rpss_organizers*mask).weighted(weights).mean('latitude').mean('longitude') if compute_each_tropics else rpss_organizers.weighted(weights).mean('latitude').mean('longitude')) \n",
    "                \n",
    "            scores_dict[month] = scores.reset_coords(drop=True).to_dataframe().unstack(0).T.round(2)\n",
    "            date_list.append(month)\n",
    "         \n",
    "        scores = pd.concat(list(scores_dict.values()), axis=1)\n",
    "        \n",
    "        if compute_each_tropics:\n",
    "            index = [(month, (timed[0], timed[1])) for month, timed in zip(date_list, [(scores.columns[0], scores.columns[1]) for i in range(24)])]\n",
    "            \n",
    "            new_index = list()\n",
    "            for item in index:\n",
    "                new_index.append((item[0], item[1][0]))\n",
    "                new_index.append((item[0], item[1][1]))\n",
    "\n",
    "            scores.columns = pd.MultiIndex.from_tuples(new_index)\n",
    "        else:\n",
    "            scores.columns = date_list\n",
    "            \n",
    "        return scores\n",
    "    \n",
    "    def compute_trimestrial_scores(self):\n",
    "        \n",
    "        first_trimestrial = (\"2020-01\", \"2020-04\")\n",
    "        second_trimestrial= (\"2020-05\", \"2020-08\")\n",
    "        third_trimestrial = (\"2020-09\", \"2020-12\")\n",
    "        \n",
    "        \n",
    "              \n",
    "        scores_list: list = list()\n",
    "        for trimestrial in range(1, 13, 4):\n",
    "            position = ((self.preds.forecast_time.dt.month >= trimestrial) & \n",
    "                        (self.preds.forecast_time.dt.month < trimestrial + 4))\n",
    "                        \n",
    "            obs = self.obs.isel(forecast_time=position)\n",
    "            preds = self.preds.isel(forecast_time=position)\n",
    "            rps_ml, rps_clim = self.compute_RPS(preds, obs)\n",
    "            rpss_organizers = self.__compute_rpss_organizers(rps_ml, rps_clim)\n",
    "            mask = self.__compute_tropic_mask(rps_ml)      \n",
    "            weights = np.cos(np.deg2rad(np.abs(mask.latitude)))\n",
    "            scores = rpss_organizers.weighted(weights).mean('latitude').mean('longitude')\n",
    "            scores_list.append(scores.reset_coords(drop=True).to_dataframe().unstack(0).T.round(2))\n",
    "            \n",
    "        scores_list = pd.concat(scores_list, axis=1)\n",
    "        scores_list.columns = [\"January to April\", \"May to August\", \"September to December\"]\n",
    "        return scores_list\n",
    "    \n",
    "    \n",
    "    def plot_by_region(self, what:str='observations', feat:str='t2m', region:str='North_America', category:int=2, forecast_time:int=0, orthographic: bool=False):\n",
    "        \n",
    "        assert 't2m' or 'tp' in feat\n",
    "        assert region in list(val.regions_positions.keys())\n",
    "        assert category <= 2\n",
    "        \n",
    "        print('Plot', feat,'for category n°', category, 'for', what, 'data for', region, 'for forecast_time', forecast_time)\n",
    "        \n",
    "        latitude: slice = self.regions_positions[region][0]\n",
    "        longitude: slice = self.regions_positions[region][1]\n",
    "            \n",
    "        orthographic_pos = self.regions_positions_orthographic[region]\n",
    "                    \n",
    "        if what == 'observations':\n",
    "            if not orthographic:\n",
    "                self.obs[feat].isel(category=category, \n",
    "                                    forecast_time=forecast_time, \n",
    "                                    latitude=latitude, \n",
    "                                    longitude=longitude).plot(col='lead_time', figsize=(10,5))\n",
    "            else:\n",
    "                self.obs[feat].isel(category=category, \n",
    "                                    forecast_time=forecast_time).plot(col='lead_time', subplot_kws=dict(projection=ccrs.Orthographic(orthographic_pos[0], orthographic_pos[1]), facecolor=\"gray\"),\n",
    "                                                                     transform=ccrs.PlateCarree(), \n",
    "                                                                     figsize=(20,20))\n",
    "        elif what == 'predictions':\n",
    "            if not orthographic:\n",
    "                self.preds[feat].isel(category=category, \n",
    "                                      forecast_time=forecast_time, \n",
    "                                      latitude=latitude, \n",
    "                                      longitude=longitude).plot(col='lead_time', figsize=(10,5))\n",
    "            else:\n",
    "                self.preds[feat].isel(category=category, \n",
    "                                    forecast_time=forecast_time).plot(col='lead_time', subplot_kws=dict(projection=ccrs.Orthographic(orthographic_pos[0], orthographic_pos[1]), facecolor=\"gray\"),\n",
    "                                                                      transform=ccrs.PlateCarree(),\n",
    "                                                                      figsize=(20,20))\n",
    "        else:\n",
    "            print(what, 'is not in possible visualisation. Try observations or predictions')"
   ]
  },
  {
   "cell_type": "markdown",
   "metadata": {},
   "source": [
    "## Open and preprocess Dataset"
   ]
  },
  {
   "cell_type": "code",
   "execution_count": null,
   "metadata": {},
   "outputs": [],
   "source": [
    "#obs = xr.open_dataset(\"***BASEDIR***/renku/hindcast-like-observations_2018-2019_biweekly_terciled.nc\")\n",
    "#preds = xr.open_dataset(\"***BASEDIR***/ml-output/2021-08-25-emos-normal-gamma-no-multiplex-without-validtime-weeks36.nc\")"
   ]
  },
  {
   "cell_type": "code",
   "execution_count": null,
   "metadata": {},
   "outputs": [],
   "source": [
    "preds = xr.open_dataset(\"***BASEDIR***/runs/infer/outputs/2021-09-14/15-29-32/emos_cube.nc\")\n",
    "obs = xr.open_dataset(\"***BASEDIR***/last-validation-files-from-organizers/forecast-like-observations_2020_biweekly_terciled.nc\")"
   ]
  },
  {
   "cell_type": "code",
   "execution_count": null,
   "metadata": {},
   "outputs": [],
   "source": [
    "preds = xr.open_dataset(\"***BASEDIR***/runs/dataset/infer/outputs/2021-09-14/16-15-40/bayes_nocube.nc\")\n",
    "obs = xr.open_dataset(\"***BASEDIR***/last-validation-files-from-organizers/forecast-like-observations_2020_biweekly_terciled.nc\")"
   ]
  },
  {
   "cell_type": "code",
   "execution_count": null,
   "metadata": {},
   "outputs": [],
   "source": [
    "preds = xr.open_dataset(\"***BASEDIR***/runs/infer/outputs/2021-09-07/14-28-19/normal_normal_monthly.nc\").drop('valid_time')\n",
    "obs = xr.open_dataset(\"***BASEDIR***/last-validation-files-from-organizers/forecast-like-observations_2020_biweekly_terciled.nc\")"
   ]
  },
  {
   "cell_type": "code",
   "execution_count": null,
   "metadata": {},
   "outputs": [],
   "source": [
    "preds = xr.open_dataset(\"***BASEDIR***/runs/infer/outputs/2021-09-16/16-01-21/bayes_conv_512.nc\")\n",
    "obs = xr.open_dataset(\"***BASEDIR***/last-validation-files-from-organizers/forecast-like-observations_2020_biweekly_terciled.nc\")"
   ]
  },
  {
   "cell_type": "code",
   "execution_count": null,
   "metadata": {},
   "outputs": [],
   "source": [
    "# Simple debiasing, monthly. \n",
    "preds = xr.open_dataset(\"***BASEDIR***/runs/infer/outputs/2021-09-23/20-03-29/debias.nc\")\n",
    "obs = xr.open_dataset(\"***BASEDIR***/last-validation-files-from-organizers/forecast-like-observations_2020_biweekly_terciled.nc\")"
   ]
  },
  {
   "cell_type": "code",
   "execution_count": null,
   "metadata": {},
   "outputs": [],
   "source": [
    "preds = xr.open_dataset(\"***BASEDIR***/runs/infer/outputs/2021-09-23/11-27-10/global_branch.nc\")\n",
    "obs = xr.open_dataset(\"***BASEDIR***/last-validation-files-from-organizers/forecast-like-observations_2020_biweekly_terciled.nc\")"
   ]
  },
  {
   "cell_type": "code",
   "execution_count": null,
   "metadata": {},
   "outputs": [],
   "source": [
    "# EMOS using ECCC data.\n",
    "preds = xr.open_dataset(\"***BASEDIR***/runs/infer/outputs/2021-09-23/19-55-16/emos_eccc.nc\")\n",
    "obs = xr.open_dataset(\"***BASEDIR***/last-validation-files-from-organizers/forecast-like-observations_2020_biweekly_terciled.nc\")"
   ]
  },
  {
   "cell_type": "code",
   "execution_count": null,
   "metadata": {},
   "outputs": [],
   "source": [
    "preds = xr.open_dataset(\"***BASEDIR***/runs/infer/outputs/2021-09-23/22-34-19/bayes_conv_eccc.nc\")\n",
    "obs = xr.open_dataset(\"***BASEDIR***/last-validation-files-from-organizers/forecast-like-observations_2020_biweekly_terciled.nc\")"
   ]
  },
  {
   "cell_type": "code",
   "execution_count": null,
   "metadata": {},
   "outputs": [],
   "source": [
    "\n",
    "preds = xr.open_dataset(\"***BASEDIR***/runs/infer/outputs/2021-09-27/11-47-01/bayes_eccc_ncep.nc\")\n",
    "obs = xr.open_dataset(\"***BASEDIR***/last-validation-files-from-organizers/forecast-like-observations_2020_biweekly_terciled.nc\")"
   ]
  },
  {
   "cell_type": "code",
   "execution_count": null,
   "metadata": {},
   "outputs": [],
   "source": [
    "\n",
    "preds = xr.open_dataset(\"***BASEDIR***/runs/infer/outputs/2021-09-28/18-15-38/emos_mix.nc\")\n",
    "obs = xr.open_dataset(\"***BASEDIR***/last-validation-files-from-organizers/forecast-like-observations_2020_biweekly_terciled.nc\")"
   ]
  },
  {
   "cell_type": "code",
   "execution_count": null,
   "metadata": {},
   "outputs": [],
   "source": [
    "preds = xr.open_dataset(\"***BASEDIR***/runs/infer/outputs/2021-09-29/14-29-54/bayes_lienar_all.nc\")\n",
    "obs = xr.open_dataset(\"***BASEDIR***/last-validation-files-from-organizers/forecast-like-observations_2020_biweekly_terciled.nc\")"
   ]
  },
  {
   "cell_type": "code",
   "execution_count": null,
   "metadata": {},
   "outputs": [],
   "source": [
    "preds = xr.open_dataset(\"***BASEDIR***/runs/infer/outputs/2021-10-01/11-13-45/bayes_multi_checkpoint.nc\")\n",
    "obs = xr.open_dataset(\"***BASEDIR***/last-validation-files-from-organizers/forecast-like-observations_2020_biweekly_terciled.nc\")"
   ]
  },
  {
   "cell_type": "code",
   "execution_count": null,
   "metadata": {},
   "outputs": [],
   "source": [
    "preds"
   ]
  },
  {
   "cell_type": "code",
   "execution_count": null,
   "metadata": {},
   "outputs": [],
   "source": [
    "skill_by_year(preds)"
   ]
  },
  {
   "cell_type": "code",
   "execution_count": null,
   "metadata": {},
   "outputs": [],
   "source": [
    "#preds = xr.open_dataset(\"***BASEDIR***/runs/infer/outputs/2021-09-13/10-22-18/bayes_linear.nc\")\n",
    "#obs = xr.open_dataset(\"***BASEDIR***/last-validation-files-from-organizers/forecast-like-observations_2020_biweekly_terciled.nc\")"
   ]
  },
  {
   "cell_type": "code",
   "execution_count": null,
   "metadata": {},
   "outputs": [],
   "source": [
    "# original 2020 observations : \"***BASEDIR***/last-validation-files-from-organizers/forecast-like-observations_2020_biweekly_terciled.nc\"\n",
    "# original 2020 ML Model : \"***BASEDIR***/last-validation-files-from-organizers/forecast-like-observations_2020_biweekly_terciled.nc\"\n",
    "\n",
    "# obs = xr.open_dataset(\"***BASEDIR***/last-validation-files-from-organizers/forecast-like-observations_2020_biweekly_terciled.nc\")\n",
    "# preds = xr.open_dataset(\"***BASEDIR***/ml-output/2021-08-25-emos-normal-gamma-no-multiplex-without-validtime-weeks36.nc\")"
   ]
  },
  {
   "cell_type": "code",
   "execution_count": null,
   "metadata": {},
   "outputs": [],
   "source": [
    "edges = xr.open_dataset(mldataset_cfg.set.aggregated_obs.edges)\n",
    "edges = edges.rename(week='forecast_time').assign_coords(forecast_time=preds.forecast_time)"
   ]
  },
  {
   "cell_type": "code",
   "execution_count": null,
   "metadata": {
    "tags": []
   },
   "outputs": [],
   "source": [
    "val = Validation(obs=obs, preds=preds, edges=edges, use_dry_mask = False)"
   ]
  },
  {
   "cell_type": "code",
   "execution_count": null,
   "metadata": {},
   "outputs": [],
   "source": [
    "rps_ML, rps_clim = val.compute_RPS(val.preds, val.obs, dim=[])"
   ]
  },
  {
   "cell_type": "code",
   "execution_count": null,
   "metadata": {},
   "outputs": [],
   "source": [
    "(1.0 - rps_ML / rps_clim).where(rps_ML.latitude > -60, drop=True).mean(dim=['lead_time', 'forecast_time']).t2m.plot(size=12, cmap='coolwarm', vmin=-0.4, vmax=0.4)"
   ]
  },
  {
   "cell_type": "code",
   "execution_count": null,
   "metadata": {},
   "outputs": [],
   "source": [
    "(1.0 - rps_ML / rps_clim).where(rps_ML.latitude > -60, drop=True).mean(dim=['forecast_time']).isel(lead_time=1).tp.plot(size=12, cmap='coolwarm', vmin=-0.2, vmax=0.2)"
   ]
  },
  {
   "cell_type": "code",
   "execution_count": null,
   "metadata": {},
   "outputs": [],
   "source": [
    "(1.0 - rps_ML / rps_clim).where(rps_ML.latitude > -60, drop=True).mean(dim=['lead_time', 'forecast_time']).tp.plot(size=8)"
   ]
  },
  {
   "cell_type": "code",
   "execution_count": null,
   "metadata": {},
   "outputs": [],
   "source": [
    "(1.0 - rps_ML / rps_clim).where(rps_ML.latitude > -60, drop=True).mean(dim=['lead_time', 'forecast_time']).tp.plot(size=8)"
   ]
  },
  {
   "cell_type": "markdown",
   "metadata": {},
   "source": [
    "## Compute scores for organizers scoring image"
   ]
  },
  {
   "cell_type": "code",
   "execution_count": null,
   "metadata": {},
   "outputs": [],
   "source": [
    "val.plot_by_region(what='predictions', region='North_America', orthographic=True)"
   ]
  },
  {
   "cell_type": "code",
   "execution_count": null,
   "metadata": {},
   "outputs": [],
   "source": [
    "val.plot_by_region(what='predictions', region='Europe_Africa_Asia', orthographic=True)"
   ]
  },
  {
   "cell_type": "code",
   "execution_count": null,
   "metadata": {},
   "outputs": [],
   "source": [
    "val.plot_by_region(what='predictions', region='Oceania', orthographic=True)"
   ]
  },
  {
   "cell_type": "code",
   "execution_count": null,
   "metadata": {},
   "outputs": [],
   "source": [
    "val.plot_rps()"
   ]
  },
  {
   "cell_type": "code",
   "execution_count": null,
   "metadata": {},
   "outputs": [],
   "source": [
    "val.compute_scores_from_scoring_image()"
   ]
  },
  {
   "cell_type": "markdown",
   "metadata": {
    "tags": []
   },
   "source": [
    "## Compute RPPS from organizers and Arlan's formula"
   ]
  },
  {
   "cell_type": "code",
   "execution_count": null,
   "metadata": {},
   "outputs": [],
   "source": [
    "organizers_rpss = val.compute_scores_from_organizers_RPSS(compute_each_tropics=COMPUTE_EACH_TROPICS)"
   ]
  },
  {
   "cell_type": "code",
   "execution_count": null,
   "metadata": {},
   "outputs": [],
   "source": [
    "arlan_rpss = val.compute_scores_from_arlan_RPSS(compute_each_tropics=COMPUTE_EACH_TROPICS)"
   ]
  },
  {
   "cell_type": "code",
   "execution_count": null,
   "metadata": {},
   "outputs": [],
   "source": [
    "rpss = pd.concat([organizers_rpss, arlan_rpss], axis=1, keys=['Organizer RPSS', 'Arlan RPSS'])\n",
    "rpss.style.background_gradient(cmap=CMAP, vmin=-np.abs([rpss.min().min(), rpss.max().max()]).max(), vmax=np.abs([rpss.min().min(), rpss.max().max()]).max()).set_precision(2)"
   ]
  },
  {
   "cell_type": "code",
   "execution_count": null,
   "metadata": {},
   "outputs": [],
   "source": [
    "rpss = pd.concat([organizers_rpss, arlan_rpss], axis=1, keys=['Organizer RPSS', 'Arlan RPSS'])\n",
    "rpss.style.background_gradient(cmap=CMAP, vmin=-np.abs([rpss.min().min(), rpss.max().max()]).max(), vmax=np.abs([rpss.min().min(), rpss.max().max()]).max()).set_precision(2)"
   ]
  },
  {
   "cell_type": "markdown",
   "metadata": {},
   "source": [
    "## Compute and plot monthly scores"
   ]
  },
  {
   "cell_type": "markdown",
   "metadata": {},
   "source": [
    "Here you can set keep_tropics to True to compute scores in function of tropics defined by organizers"
   ]
  },
  {
   "cell_type": "code",
   "execution_count": null,
   "metadata": {},
   "outputs": [],
   "source": [
    "scores_monthly = val.compute_monthly_scores(compute_each_tropics=COMPUTE_EACH_TROPICS)\n",
    "scores_monthly.style.background_gradient(cmap=CMAP, vmin=-np.abs([rpss.min().min(), rpss.max().max()]).max(), vmax=np.abs([rpss.min().min(), rpss.max().max()]).max()).set_precision(2)"
   ]
  },
  {
   "cell_type": "code",
   "execution_count": null,
   "metadata": {},
   "outputs": [],
   "source": [
    "scores_monthly = val.compute_monthly_scores(compute_each_tropics=COMPUTE_EACH_TROPICS)\n",
    "scores_monthly.style.background_gradient(cmap=CMAP, vmin=-np.abs([rpss.min().min(), rpss.max().max()]).max(), vmax=np.abs([rpss.min().min(), rpss.max().max()]).max()).set_precision(2)"
   ]
  },
  {
   "cell_type": "code",
   "execution_count": null,
   "metadata": {},
   "outputs": [],
   "source": [
    "fig, axes = plt.subplots(nrows=1, ncols=3, figsize=(25, 5))\n",
    "scores_monthly.transpose().plot(ax=axes[0])\n",
    "scores_monthly.xs('t2m', axis=0).transpose().plot(ax=axes[1])\n",
    "scores_monthly.xs('tp', axis=0).transpose().plot(ax=axes[2])"
   ]
  },
  {
   "cell_type": "markdown",
   "metadata": {},
   "source": [
    "## Compute and plot trimestrial scores"
   ]
  },
  {
   "cell_type": "code",
   "execution_count": null,
   "metadata": {},
   "outputs": [],
   "source": [
    "scores_trimestrials = val.compute_trimestrial_scores()"
   ]
  },
  {
   "cell_type": "code",
   "execution_count": null,
   "metadata": {},
   "outputs": [],
   "source": [
    "scores_trimestrials.style.background_gradient(cmap=CMAP, vmin=-np.abs([rpss.min().min(), rpss.max().max()]).max(), vmax=np.abs([rpss.min().min(), rpss.max().max()]).max()).set_precision(2)"
   ]
  },
  {
   "cell_type": "code",
   "execution_count": null,
   "metadata": {},
   "outputs": [],
   "source": [
    "fig, axes = plt.subplots(nrows=1, ncols=3, figsize=(25, 5))\n",
    "scores_trimestrials.transpose().plot(ax=axes[0]) \n",
    "scores_trimestrials.xs('t2m', axis=0).transpose().plot(ax=axes[1])\n",
    "scores_trimestrials.xs('tp', axis=0).transpose().plot(ax=axes[2])"
   ]
  },
  {
   "cell_type": "markdown",
   "metadata": {},
   "source": [
    "## Export Notebook and figures"
   ]
  },
  {
   "cell_type": "code",
   "execution_count": null,
   "metadata": {},
   "outputs": [],
   "source": [
    "EXPORT_DATA = False\n",
    "if EXPORT_DATA:\n",
    "    \n",
    "    save_date = datetime.datetime.now().strftime('%Y-%m-%d-%H-%M-%S%f')[:-3]\n",
    "    \n",
    "    save_directory: str = os.path.join(EXPORT_PATH, save_date)\n",
    "    os.mkdir(save_directory)\n",
    "    \n",
    "    writer = pd.ExcelWriter(os.path.join(save_directory, \"scores.xlsx\"), engine='xlsxwriter')\n",
    "    scores_monthly.to_excel(writer, sheet_name='Monthly scores')\n",
    "    scores_trimestrials.to_excel(writer, sheet_name='Trimestrial scores')\n",
    "    organizers_rpss.to_excel(writer, sheet_name='Organizers RPSS')\n",
    "    arlan_rpss.to_excel(writer, sheet_name='Arlan RPSS')\n",
    "    writer.save()\n",
    "    \n",
    "    !jupyter nbconvert \"JG - Validation.ipynb\" --to html --output \"Validation Notebook.html\""
   ]
  }
 ],
 "metadata": {
  "kernelspec": {
   "display_name": "S2S Challenge",
   "language": "python",
   "name": "s2s"
  },
  "language_info": {
   "codemirror_mode": {
    "name": "ipython",
    "version": 3
   },
   "file_extension": ".py",
   "mimetype": "text/x-python",
   "name": "python",
   "nbconvert_exporter": "python",
   "pygments_lexer": "ipython3",
   "version": "3.8.12"
  }
 },
 "nbformat": 4,
 "nbformat_minor": 4
}
