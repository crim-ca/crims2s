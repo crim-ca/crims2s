{
 "cells": [
  {
   "cell_type": "code",
   "execution_count": null,
   "metadata": {},
   "outputs": [],
   "source": [
    "%load_ext autoreload\n",
    "%autoreload 2"
   ]
  },
  {
   "cell_type": "code",
   "execution_count": null,
   "metadata": {},
   "outputs": [],
   "source": []
  },
  {
   "cell_type": "code",
   "execution_count": null,
   "metadata": {},
   "outputs": [],
   "source": [
    "import numpy as np\n",
    "import pathlib\n",
    "import xarray as xr"
   ]
  },
  {
   "cell_type": "code",
   "execution_count": null,
   "metadata": {},
   "outputs": [],
   "source": [
    "OBS_DIR = '***BASEDIR***training-output-reference/'\n",
    "obs_path = pathlib.Path(OBS_DIR)\n",
    "\n",
    "obs_files = sorted([f for f in obs_path.iterdir() if 'tp' in f.stem])"
   ]
  },
  {
   "cell_type": "code",
   "execution_count": null,
   "metadata": {},
   "outputs": [],
   "source": [
    "def fix_dataset_dims(d):\n",
    "    \"\"\"Given one of the dataset files given by the organizers, fix its\n",
    "    dimensions so its easier to concatenate and use with xr.open_mfdataset.\n",
    "\n",
    "    Arguments:\n",
    "      d. xr.Dataset. The dataset you get when you open one of the provided files.\n",
    "    \"\"\"\n",
    "\n",
    "    day_of_year = d.forecast_time[0].dt.dayofyear.data.item()\n",
    "\n",
    "    new_d = d.expand_dims(\"forecast_dayofyear\").assign_coords(\n",
    "        forecast_dayofyear=[day_of_year]\n",
    "    )\n",
    "    new_d = new_d.assign_coords(forecast_year=new_d.forecast_time.dt.year).swap_dims(\n",
    "        forecast_time=\"forecast_year\"\n",
    "    )\n",
    "\n",
    "    # Reorder the dimensions to something that is more intuitive (according to me).\n",
    "    dims = set(new_d.dims)\n",
    "    dims.difference_update(\n",
    "        (\"forecast_dayofyear\", \"forecast_year\", \"latitude\", \"longitude\")\n",
    "    )\n",
    "\n",
    "    new_d = new_d.transpose(\n",
    "        \"forecast_year\", \"forecast_dayofyear\", *dims, \"latitude\", \"longitude\"\n",
    "    )\n",
    "\n",
    "    # new_d = new_d.chunk(chunks=\"auto\")\n",
    "\n",
    "    return new_d\n"
   ]
  },
  {
   "cell_type": "code",
   "execution_count": null,
   "metadata": {
    "tags": []
   },
   "outputs": [],
   "source": [
    "tp = xr.open_mfdataset(obs_files, preprocess=fix_dataset_dims)"
   ]
  },
  {
   "cell_type": "code",
   "execution_count": null,
   "metadata": {},
   "outputs": [],
   "source": [
    "tp"
   ]
  },
  {
   "cell_type": "code",
   "execution_count": null,
   "metadata": {},
   "outputs": [],
   "source": [
    "tp.sel(forecast_dayofyear=86, forecast_year=2015).isnull().sum(dim=['latitude', 'longitude']).tp.compute().plot()"
   ]
  },
  {
   "cell_type": "code",
   "execution_count": null,
   "metadata": {},
   "outputs": [],
   "source": [
    "lead1 = tp.sel(forecast_dayofyear=86, forecast_year=2015).isel(lead_time=1).isnull().tp.compute().astype('uint')"
   ]
  },
  {
   "cell_type": "code",
   "execution_count": null,
   "metadata": {},
   "outputs": [],
   "source": [
    "tp"
   ]
  },
  {
   "cell_type": "code",
   "execution_count": null,
   "metadata": {},
   "outputs": [],
   "source": [
    "(tp.sel(forecast_dayofyear=86, forecast_year=2015).isel(lead_time=0).isnull().sum(dim='lead_time') - tp.sel(forecast_dayofyear=86, forecast_year=2015).isel(lead_time=1).isnull().sum(dim='lead_time')).tp.compute()"
   ]
  },
  {
   "cell_type": "code",
   "execution_count": null,
   "metadata": {},
   "outputs": [],
   "source": []
  },
  {
   "cell_type": "code",
   "execution_count": null,
   "metadata": {},
   "outputs": [],
   "source": [
    "tp.forecast_dayofyear"
   ]
  },
  {
   "cell_type": "code",
   "execution_count": null,
   "metadata": {},
   "outputs": [],
   "source": [
    "tp.sel(forecast_dayofyear=51, forecast_year=2012).isnull().sum(dim='lead_time').compute().tp.plot()"
   ]
  },
  {
   "cell_type": "code",
   "execution_count": null,
   "metadata": {},
   "outputs": [],
   "source": [
    "tp.sel??"
   ]
  },
  {
   "cell_type": "code",
   "execution_count": null,
   "metadata": {},
   "outputs": [],
   "source": []
  }
 ],
 "metadata": {
  "kernelspec": {
   "display_name": "S2S Challenge",
   "language": "python",
   "name": "s2s"
  },
  "language_info": {
   "codemirror_mode": {
    "name": "ipython",
    "version": 3
   },
   "file_extension": ".py",
   "mimetype": "text/x-python",
   "name": "python",
   "nbconvert_exporter": "python",
   "pygments_lexer": "ipython3",
   "version": "3.8.10"
  }
 },
 "nbformat": 4,
 "nbformat_minor": 4
}
