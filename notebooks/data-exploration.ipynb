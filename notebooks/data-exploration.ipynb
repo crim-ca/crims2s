{
 "cells": [
  {
   "cell_type": "code",
   "execution_count": null,
   "id": "698125e6-f650-4379-8ee3-b67b311d41c9",
   "metadata": {},
   "outputs": [],
   "source": [
    "import dask\n",
    "import dask.array as da\n",
    "import dask_jobqueue\n",
    "import pathlib\n",
    "import xarray as xr"
   ]
  },
  {
   "cell_type": "markdown",
   "id": "c1831458-6092-47d6-aeff-a36409d452de",
   "metadata": {},
   "source": [
    "# boot dask cluster"
   ]
  },
  {
   "cell_type": "code",
   "execution_count": null,
   "id": "f0783499-bb80-498a-b53f-6136ce0ca65f",
   "metadata": {},
   "outputs": [],
   "source": [
    "cluster = dask_jobqueue.SLURMCluster(\n",
    "    env_extra=['source ***HOME***.bash_profile','conda activate s2s'],\n",
    ")"
   ]
  },
  {
   "cell_type": "code",
   "execution_count": null,
   "id": "a358ca1b-ca97-4cb9-9678-a171bdd8e8cc",
   "metadata": {},
   "outputs": [],
   "source": [
    "INPUT_DATA = '***HOME***hdd_scratch/s2s/training-input/0.3.0/netcdf'"
   ]
  },
  {
   "cell_type": "code",
   "execution_count": null,
   "id": "03ef988f-5476-4ee7-9330-9116c7b61559",
   "metadata": {},
   "outputs": [],
   "source": [
    "BENCHMARK_DATA = '***HOME***hdd_scratch/s2s/training-output-benchmark/'"
   ]
  },
  {
   "cell_type": "code",
   "execution_count": null,
   "id": "ad07c008-5f89-4078-b827-1454be468e8c",
   "metadata": {},
   "outputs": [],
   "source": [
    "benchmark_path = pathlib.Path(BENCHMARK_DATA)"
   ]
  },
  {
   "cell_type": "code",
   "execution_count": null,
   "id": "f21ea6c7-bef5-475e-8725-e137269f9bf5",
   "metadata": {},
   "outputs": [],
   "source": [
    "evmwf_files = sorted([x for x in benchmark_path.iterdir()])"
   ]
  },
  {
   "cell_type": "code",
   "execution_count": null,
   "id": "0075807b-1be7-4017-ae3a-77979742a54e",
   "metadata": {},
   "outputs": [],
   "source": [
    "evmwf_files[0:10]"
   ]
  },
  {
   "cell_type": "code",
   "execution_count": null,
   "id": "4570e1af-d34b-49bf-84f6-34b9af3926ad",
   "metadata": {},
   "outputs": [],
   "source": [
    "d = xr.open_dataset('***HOME***hdd_scratch/s2s/training-output-benchmark/t2m.nc')"
   ]
  },
  {
   "cell_type": "code",
   "execution_count": null,
   "id": "54432dc8-383b-4b43-b8d9-3487a1b79101",
   "metadata": {},
   "outputs": [],
   "source": [
    "d.lead_time.astype('timedelta64[D]')"
   ]
  },
  {
   "cell_type": "code",
   "execution_count": null,
   "id": "2e43fb0a-74f6-4b31-a5ca-fb61b76386ac",
   "metadata": {},
   "outputs": [],
   "source": [
    "ds = [xr.open_dataset(eccc_file) for eccc_file in eccc_files[:10]]"
   ]
  },
  {
   "cell_type": "code",
   "execution_count": null,
   "id": "5c360a01-5110-49a4-8b72-91ae3fb9fe8c",
   "metadata": {},
   "outputs": [],
   "source": [
    "d = xr.merge(ds)"
   ]
  },
  {
   "cell_type": "code",
   "execution_count": null,
   "id": "0f6342c7-76b4-4215-9e14-ea5631f19e77",
   "metadata": {},
   "outputs": [],
   "source": [
    "xr.concat([d1, d2], )"
   ]
  },
  {
   "cell_type": "code",
   "execution_count": null,
   "id": "028d5f70-7608-4074-8998-8640a26cab32",
   "metadata": {},
   "outputs": [],
   "source": [
    "xr.merge([d1, d2])"
   ]
  },
  {
   "cell_type": "code",
   "execution_count": null,
   "id": "1e603ba4-c109-4906-abd0-e1761caf8c42",
   "metadata": {},
   "outputs": [],
   "source": [
    "d1.forecast_time"
   ]
  },
  {
   "cell_type": "code",
   "execution_count": null,
   "id": "c1f07f06-cd9b-4f4c-915a-cdd45d14d3ee",
   "metadata": {},
   "outputs": [],
   "source": [
    "d2.forecast_time"
   ]
  },
  {
   "cell_type": "code",
   "execution_count": null,
   "id": "9a6c647e-e845-4051-ab22-d84e70d191b7",
   "metadata": {},
   "outputs": [],
   "source": [
    "import dask_jobqueue\n",
    " \n",
    "cluster = dask_jobqueue.SLURMCluster(\n",
    "    cores=12,\n",
    "    processes=6,\n",
    "    memory='128G',\n",
    "    env_extra=['source ***HOME***.bash_profile','conda activate agri'],\n",
    "    name='agri-dask',\n",
    "    local_directory='/var/tmp/CACHE-<LOGIN>', # METTRE VOTRE LOGIN CRIM ICI\n",
    "    walltime='3:00:00'\n",
    ")"
   ]
  }
 ],
 "metadata": {
  "kernelspec": {
   "display_name": "S2S Challenge",
   "language": "python",
   "name": "s2s"
  },
  "language_info": {
   "codemirror_mode": {
    "name": "ipython",
    "version": 3
   },
   "file_extension": ".py",
   "mimetype": "text/x-python",
   "name": "python",
   "nbconvert_exporter": "python",
   "pygments_lexer": "ipython3",
   "version": "3.8.10"
  }
 },
 "nbformat": 4,
 "nbformat_minor": 5
}
