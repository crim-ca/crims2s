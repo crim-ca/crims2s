{
 "cells": [
  {
   "cell_type": "markdown",
   "id": "4c478154-7324-43d1-81ea-0fb429cbdb99",
   "metadata": {},
   "source": [
    "# Simple linear model\n",
    "\n",
    "Try and train a simple linear model for one center, for one forecast date, for one lead time."
   ]
  },
  {
   "cell_type": "code",
   "execution_count": null,
   "id": "69c9bb91-6c9b-4fe1-870c-a728bfa14d06",
   "metadata": {},
   "outputs": [],
   "source": [
    "%load_ext autoreload\n",
    "%autoreload 2"
   ]
  },
  {
   "cell_type": "code",
   "execution_count": null,
   "id": "fce2934b-8a93-445b-a0df-1aa5dd38c30b",
   "metadata": {},
   "outputs": [],
   "source": [
    "import dask\n",
    "import dask.array as da\n",
    "import dask.distributed\n",
    "import dask_jobqueue\n",
    "import pathlib\n",
    "import xarray as xr"
   ]
  },
  {
   "cell_type": "code",
   "execution_count": null,
   "id": "a36c30d8-ae75-4616-9e35-d558db64b065",
   "metadata": {},
   "outputs": [],
   "source": [
    "INPUT_TRAIN = '***HOME***hdd_scratch/s2s/training-input/0.3.0/netcdf'\n",
    "input_path = pathlib.Path(INPUT_TRAIN)"
   ]
  },
  {
   "cell_type": "code",
   "execution_count": null,
   "id": "132435ef-b433-4d3c-be69-b12f5aec8383",
   "metadata": {},
   "outputs": [],
   "source": [
    "OUTPUT_TRAIN = '***HOME***hdd_scratch/s2s/training-output-benchmark/'"
   ]
  },
  {
   "cell_type": "code",
   "execution_count": null,
   "id": "24ec6d4c-2c07-4023-8e3e-07748c7f184f",
   "metadata": {},
   "outputs": [],
   "source": [
    "REFERENCE_TRAIN = '***HOME***hdd_scratch/s2s/training-output-reference/'"
   ]
  },
  {
   "cell_type": "markdown",
   "id": "02863f75-c9cc-4669-808e-0822457eabaf",
   "metadata": {},
   "source": [
    "## Boot Dask cluster"
   ]
  },
  {
   "cell_type": "code",
   "execution_count": null,
   "id": "42af12b7-8cae-4bae-8dac-9c19ba3847b4",
   "metadata": {},
   "outputs": [],
   "source": [
    "cluster = dask_jobqueue.SLURMCluster(\n",
    "    env_extra=['source ***HOME***.bash_profile','conda activate s2s'],\n",
    ")"
   ]
  },
  {
   "cell_type": "code",
   "execution_count": null,
   "id": "397d912e-bac5-454d-a08e-5cd5285a5fbf",
   "metadata": {},
   "outputs": [],
   "source": [
    "cluster.scale(jobs=2)  # Scale to two working nodes as configured.\n",
    "client = dask.distributed.Client(cluster)"
   ]
  },
  {
   "cell_type": "code",
   "execution_count": null,
   "id": "37dab149-134b-4c23-bc39-e702455ec610",
   "metadata": {},
   "outputs": [],
   "source": [
    "client"
   ]
  },
  {
   "cell_type": "markdown",
   "id": "9f2df250-62f7-4b27-8488-3a7ae14d0487",
   "metadata": {},
   "source": [
    "## Read input data"
   ]
  },
  {
   "cell_type": "code",
   "execution_count": null,
   "id": "70615544-eecb-4ecf-b88d-a5b5e5503172",
   "metadata": {},
   "outputs": [],
   "source": [
    "CENTER = 'ecmwf'\n",
    "DATE = '20200102'"
   ]
  },
  {
   "cell_type": "code",
   "execution_count": null,
   "id": "20b9e71e-4059-4b8e-8b6a-d9f87eb173d4",
   "metadata": {},
   "outputs": [],
   "source": [
    "files = [f for f in input_path.iterdir() if CENTER in f.stem if DATE in f.stem]"
   ]
  },
  {
   "cell_type": "code",
   "execution_count": null,
   "id": "5b21d383-38cf-4fb9-8ef1-2eda06c40b27",
   "metadata": {},
   "outputs": [],
   "source": [
    "files"
   ]
  },
  {
   "cell_type": "code",
   "execution_count": null,
   "id": "e978d278-f24d-4861-be7e-5c72a3e0a258",
   "metadata": {},
   "outputs": [],
   "source": [
    "variable = [x.stem.split('-')[2] for x in files]"
   ]
  },
  {
   "cell_type": "code",
   "execution_count": null,
   "id": "e66fb018-22fb-4fd2-aceb-013edd814027",
   "metadata": {},
   "outputs": [],
   "source": [
    "sorted(variable)"
   ]
  },
  {
   "cell_type": "code",
   "execution_count": null,
   "id": "5c6698be-e1e2-431a-b39f-0404d5b9823d",
   "metadata": {},
   "outputs": [],
   "source": [
    "'entireAtmosphere' in datasets[0].coords"
   ]
  },
  {
   "cell_type": "code",
   "execution_count": null,
   "id": "0fc210dd-ec32-4230-847d-7164c79b0b9e",
   "metadata": {},
   "outputs": [],
   "source": [
    "datasets[0]"
   ]
  },
  {
   "cell_type": "code",
   "execution_count": null,
   "id": "52b8f134-5247-496d-979e-2466ab28ac0f",
   "metadata": {},
   "outputs": [],
   "source": [
    "dataset_with_level = []\n",
    "dataset_wo_level = []\n",
    "\n",
    "for d in datasets:\n",
    "    if 'plev' in d.coords:\n",
    "        dataset_with_level.append(d)\n",
    "    else:\n",
    "        dataset_wo_level.append(d)"
   ]
  },
  {
   "cell_type": "code",
   "execution_count": null,
   "id": "ff7079fe-cc22-4bbd-8bba-650164dd3315",
   "metadata": {},
   "outputs": [],
   "source": [
    "dataset_wo_level[0]"
   ]
  },
  {
   "cell_type": "code",
   "execution_count": null,
   "id": "67786b03-d450-4491-ab1b-7d3de99861b2",
   "metadata": {},
   "outputs": [],
   "source": [
    "full_dataset = xr.merge(dataset_wo_level)"
   ]
  },
  {
   "cell_type": "code",
   "execution_count": null,
   "id": "040a6268-8924-45e0-a5ff-46fe93257fb1",
   "metadata": {},
   "outputs": [],
   "source": [
    "full_dataset"
   ]
  },
  {
   "cell_type": "code",
   "execution_count": null,
   "id": "0b44cf19-21b6-4937-8df3-424801a38392",
   "metadata": {},
   "outputs": [],
   "source": [
    "one_lead_time = full_dataset.isel(lead_time=21, meanSea=0, entireAtmosphere=0, nominal_top=0).drop(['rsn', 'siconc', 'lsm', 'sst', 'tp'])"
   ]
  },
  {
   "cell_type": "code",
   "execution_count": null,
   "id": "fe8966df-2b18-41e6-908f-068a2351bef8",
   "metadata": {},
   "outputs": [],
   "source": [
    "one_lead_time"
   ]
  },
  {
   "cell_type": "code",
   "execution_count": null,
   "id": "42e73d36-b58a-4a7f-8c4c-e893e2d3ee93",
   "metadata": {},
   "outputs": [],
   "source": [
    "one_lead_time.isnull().sum()"
   ]
  },
  {
   "cell_type": "code",
   "execution_count": null,
   "id": "25860800-0553-403d-8f0d-45ed3ccd8815",
   "metadata": {},
   "outputs": [],
   "source": [
    "one_lead_time.shape"
   ]
  },
  {
   "cell_type": "code",
   "execution_count": null,
   "id": "79280709-2424-450e-8b28-afecddd686aa",
   "metadata": {},
   "outputs": [],
   "source": [
    "np_input = one_lead_time.to_array(dim='field').transpose('forecast_time', 'latitude', 'longitude', 'field', 'realization').data"
   ]
  },
  {
   "cell_type": "code",
   "execution_count": null,
   "id": "9e620a02-b7fe-4a14-b672-943974a6945a",
   "metadata": {
    "tags": []
   },
   "outputs": [],
   "source": [
    "np_input = np_input.reshape(20, 121, 240, -1)"
   ]
  },
  {
   "cell_type": "code",
   "execution_count": null,
   "id": "10708d57-71fd-4d5e-9f62-025e29b65899",
   "metadata": {},
   "outputs": [],
   "source": [
    "np_input.shape"
   ]
  },
  {
   "cell_type": "markdown",
   "id": "574d4f30-2d6a-4d5d-8cab-9c1a7d3a6e2a",
   "metadata": {},
   "source": [
    "## Reading output values"
   ]
  },
  {
   "cell_type": "code",
   "execution_count": null,
   "id": "40cccbb6-1dd4-4a38-821f-eaf926aa0297",
   "metadata": {},
   "outputs": [],
   "source": [
    "!ls {OUTPUT_TRAIN}"
   ]
  },
  {
   "cell_type": "code",
   "execution_count": null,
   "id": "681de46c-7755-4f3b-8812-812bd9cc90d4",
   "metadata": {},
   "outputs": [],
   "source": [
    "t2m = xr.open_dataset(OUTPUT_TRAIN + '/t2m.nc')"
   ]
  },
  {
   "cell_type": "code",
   "execution_count": null,
   "id": "da9e712a-e4cb-43f6-90b3-1b83b5202c75",
   "metadata": {},
   "outputs": [],
   "source": [
    "t2m"
   ]
  },
  {
   "cell_type": "code",
   "execution_count": null,
   "id": "a93b79fe-9699-45bf-894c-6aeb75b5adf4",
   "metadata": {},
   "outputs": [],
   "source": [
    "first_forecast_t2m = t2m.sel(forecast_time=t2m.forecast_time.dt.day == 2).isel(lead_time=0)"
   ]
  },
  {
   "cell_type": "code",
   "execution_count": null,
   "id": "15c499fd-b665-40a5-90c2-2ceca6cb9dec",
   "metadata": {},
   "outputs": [],
   "source": [
    "first_forecast_t2m"
   ]
  },
  {
   "cell_type": "code",
   "execution_count": null,
   "id": "ab6d4a71-ecb8-47be-b98d-3311b08f5200",
   "metadata": {},
   "outputs": [],
   "source": [
    "t2m.lead_time.data.astype('timedelta64[D]')"
   ]
  },
  {
   "cell_type": "code",
   "execution_count": null,
   "id": "4a28b428-fe47-4622-8c8f-f92a1718e411",
   "metadata": {},
   "outputs": [],
   "source": [
    "first_forecast_t2m.isel(category=2, forecast_time=20).t2m.plot()"
   ]
  },
  {
   "cell_type": "markdown",
   "id": "598b9850-b25d-488f-8031-4934c3fdf826",
   "metadata": {},
   "source": [
    "## Check one of the bi-weekly files"
   ]
  },
  {
   "cell_type": "code",
   "execution_count": null,
   "id": "89b9a712-a773-440f-bbdc-b095b9ad5135",
   "metadata": {},
   "outputs": [],
   "source": [
    "t2m_weekly = xr.open_dataset(OUTPUT_TRAIN + '/t2m-weeks-34.nc')"
   ]
  },
  {
   "cell_type": "code",
   "execution_count": null,
   "id": "fdda684a-d71f-432e-a978-f4615678f80e",
   "metadata": {},
   "outputs": [],
   "source": [
    "t2m_weekly"
   ]
  },
  {
   "cell_type": "markdown",
   "id": "90188899-728e-4fb6-9e66-fe3cb687cf0a",
   "metadata": {},
   "source": [
    "## Check the other type of forecast"
   ]
  },
  {
   "cell_type": "code",
   "execution_count": null,
   "id": "478da479-46a4-42e4-9f7e-627c695dc1d1",
   "metadata": {},
   "outputs": [],
   "source": [
    "reference_t2m = xr.open_dataset(REFERENCE_TRAIN + '/t2m-20200102.nc')"
   ]
  },
  {
   "cell_type": "code",
   "execution_count": null,
   "id": "c648e789-5c03-4bc1-8ada-d00fd2598689",
   "metadata": {},
   "outputs": [],
   "source": [
    "reference_t2m"
   ]
  },
  {
   "cell_type": "code",
   "execution_count": null,
   "id": "570946c0-fb6c-4a0c-94da-2e044a214cc3",
   "metadata": {},
   "outputs": [],
   "source": [
    "reference_t2m.lead_time.data.astype('timedelta64[D]')"
   ]
  },
  {
   "cell_type": "code",
   "execution_count": null,
   "id": "c44f6f06-65c9-45c6-b5c4-6a4cd09a8fc7",
   "metadata": {},
   "outputs": [],
   "source": []
  }
 ],
 "metadata": {
  "kernelspec": {
   "display_name": "S2S Challenge",
   "language": "python",
   "name": "s2s"
  },
  "language_info": {
   "codemirror_mode": {
    "name": "ipython",
    "version": 3
   },
   "file_extension": ".py",
   "mimetype": "text/x-python",
   "name": "python",
   "nbconvert_exporter": "python",
   "pygments_lexer": "ipython3",
   "version": "3.8.10"
  }
 },
 "nbformat": 4,
 "nbformat_minor": 5
}
