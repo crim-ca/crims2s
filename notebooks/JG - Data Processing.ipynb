{
 "cells": [
  {
   "cell_type": "markdown",
   "id": "6c3a531b-5538-4fb1-957e-021945ab2f3d",
   "metadata": {},
   "source": [
    "# S2S Competition - Data Processing"
   ]
  },
  {
   "cell_type": "markdown",
   "id": "35ac2fb1-4dac-49af-936b-82d5924a4c9d",
   "metadata": {},
   "source": [
    "## Notebook configuration"
   ]
  },
  {
   "cell_type": "code",
   "execution_count": null,
   "id": "c5bc75fa-969e-462b-9aaf-89b8fa03a521",
   "metadata": {},
   "outputs": [],
   "source": [
    "BOOT_DASK_CLUSTER: bool = False\n",
    "    \n",
    "INPUT_DATA: str = '***BASEDIR***training-input/0.3.0/netcdf'\n",
    "OUTPUT_DIR: str = '***HOME***Projets/S2S-Competition/outputs'\n",
    "FILTER_FILE: str = \"eccc\"\n",
    "    \n",
    "variables_experimentales: list = [\"t\", \"gh\", \"u\", \"v\", \"sst\", \"lsm\"]\n",
    "variables_to_predict: list = [\"t2m\", \"tp\"]\n",
    "CENTER = 'eccc'"
   ]
  },
  {
   "cell_type": "markdown",
   "id": "b84115ba-7998-4d14-a8e8-0ab81966b736",
   "metadata": {},
   "source": [
    "## Imports packages"
   ]
  },
  {
   "cell_type": "code",
   "execution_count": null,
   "id": "33b8e243-3640-41cd-9933-f4fe50ae7cd6",
   "metadata": {},
   "outputs": [],
   "source": [
    "import dask\n",
    "import dask.array as da\n",
    "import dask_jobqueue\n",
    "import dask_jobqueue"
   ]
  },
  {
   "cell_type": "code",
   "execution_count": null,
   "id": "489fb85a-bac1-4585-bc7e-abd4ff109b5c",
   "metadata": {},
   "outputs": [],
   "source": [
    "import pathlib\n",
    "import xarray as xr\n",
    "\n",
    "import sys\n",
    "import os\n",
    "import pandas as pd\n",
    "import numpy as np\n",
    "from tqdm.notebook import tqdm\n",
    "import time"
   ]
  },
  {
   "cell_type": "code",
   "execution_count": 17,
   "id": "15e1b7a9-a288-4854-badd-24cb77e2fec8",
   "metadata": {},
   "outputs": [],
   "source": [
    "from crims2s.util import fix_dataset_dims"
   ]
  },
  {
   "cell_type": "markdown",
   "id": "62ea4413-dcc5-41ac-b1bd-f4f655ae209e",
   "metadata": {},
   "source": [
    "## Boot Dask Cluster"
   ]
  },
  {
   "cell_type": "code",
   "execution_count": null,
   "id": "54010fa6-8b84-4863-bafe-d2557930499e",
   "metadata": {},
   "outputs": [],
   "source": [
    "if BOOT_DASK_CLUSTER:\n",
    "    cluster = dask_jobqueue.SLURMCluster(\n",
    "        cores=12,\n",
    "        processes=6,\n",
    "        memory='128G',\n",
    "        env_extra=['source ***HOME***.bash_profile','conda activate s2s'],\n",
    "        name='agri-dask',\n",
    "        local_directory='***CACHE***', # METTRE VOTRE LOGIN CRIM ICI\n",
    "        walltime='3:00:00'\n",
    "    )\n",
    "    \n",
    "    cluster.scale(jobs=2)  # Scale to two working nodes as configured.\n",
    "    client = dask.distributed.Client(cluster)\n",
    "    \n",
    "    client"
   ]
  },
  {
   "cell_type": "markdown",
   "id": "77e6da40-2727-45ef-8ec5-3a79b9042d60",
   "metadata": {},
   "source": [
    "# Extract informations from Data"
   ]
  },
  {
   "cell_type": "code",
   "execution_count": null,
   "id": "07c845c4-4c55-46a5-816e-fed89055c461",
   "metadata": {},
   "outputs": [],
   "source": [
    "input_path = pathlib.Path(INPUT_DATA)"
   ]
  },
  {
   "cell_type": "code",
   "execution_count": null,
   "id": "52d86294-0cdd-4069-abd8-37a7a2fc3f2a",
   "metadata": {},
   "outputs": [],
   "source": [
    "eccc_files = sorted([x for x in input_path.iterdir() if x.stem.startswith(FILTER_FILE)])"
   ]
  },
  {
   "cell_type": "code",
   "execution_count": null,
   "id": "9003ccd2-7e8d-4b01-8769-a6be9bd5b8ef",
   "metadata": {},
   "outputs": [],
   "source": [
    "### Extract ecmwf files"
   ]
  },
  {
   "cell_type": "code",
   "execution_count": null,
   "id": "849c90b0-a178-40fc-8cc7-10433ea1c1af",
   "metadata": {},
   "outputs": [],
   "source": [
    "ecmwf_files: pd.DataFrame = extract_informations_from_data(ecmwf_files)"
   ]
  },
  {
   "cell_type": "markdown",
   "id": "b081ce95-26a6-4ef4-aa61-e8006aae0177",
   "metadata": {},
   "source": [
    "### Extract ncep files"
   ]
  },
  {
   "cell_type": "code",
   "execution_count": null,
   "id": "9d7f02c3-1fe7-4253-81b1-6e317dac3088",
   "metadata": {},
   "outputs": [],
   "source": [
    "ncep_files = sorted([x for x in input_path.iterdir() if x.stem.startswith(\"ncep\")])"
   ]
  },
  {
   "cell_type": "code",
   "execution_count": null,
   "id": "1224b305-90e0-4ff4-878a-e087add76257",
   "metadata": {},
   "outputs": [],
   "source": [
    "ncep_files: pd.DataFrame = extract_informations_from_data(ncep_files)"
   ]
  },
  {
   "cell_type": "markdown",
   "id": "0afc4db8-11d6-4448-9580-12144d4977d1",
   "metadata": {},
   "source": [
    "## Check available variables from ECCC files"
   ]
  },
  {
   "cell_type": "code",
   "execution_count": null,
   "id": "3a79ecc5-67a4-458f-aeb8-5b60b1eab105",
   "metadata": {},
   "outputs": [],
   "source": [
    "sub_eccc_files_df = eccc_files_df.drop_duplicates(subset=['Variable_shortname'])\n",
    "sub_eccc_files_df.set_index(\"Variable_shortname\", inplace=True)\n",
    "sub_eccc_files_df"
   ]
  },
  {
   "cell_type": "code",
   "execution_count": null,
   "id": "69ae95b2-1a73-47a7-a766-c7cfa051382d",
   "metadata": {},
   "outputs": [],
   "source": [
    "flat_data = extract_data_for_plev(eccc_files_df, variables_with_plev, variables_without_plev, plev=1000)\n",
    "flat_data"
   ]
  },
  {
   "cell_type": "code",
   "execution_count": null,
   "id": "d31f8c49-adbb-4b8a-b9b7-66af069088f8",
   "metadata": {},
   "outputs": [],
   "source": []
  }
 ],
 "metadata": {
  "kernelspec": {
   "display_name": "S2S Challenge",
   "language": "python",
   "name": "s2s"
  },
  "language_info": {
   "codemirror_mode": {
    "name": "ipython",
    "version": 3
   },
   "file_extension": ".py",
   "mimetype": "text/x-python",
   "name": "python",
   "nbconvert_exporter": "python",
   "pygments_lexer": "ipython3",
   "version": "3.8.10"
  }
 },
 "nbformat": 4,
 "nbformat_minor": 5
}
