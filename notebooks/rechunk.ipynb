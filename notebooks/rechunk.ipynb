{
 "cells": [
  {
   "cell_type": "code",
   "execution_count": null,
   "source": [
    "%load_ext autoreload\n",
    "%autoreload 2"
   ],
   "outputs": [],
   "metadata": {}
  },
  {
   "cell_type": "code",
   "execution_count": null,
   "source": [
    "import multiprocessing\n",
    "import os\n",
    "import pathlib\n",
    "import xarray as xr\n",
    "\n",
    "from tqdm.notebook import tqdm\n",
    "from crims2s.util import fix_dataset_dims"
   ],
   "outputs": [],
   "metadata": {}
  },
  {
   "cell_type": "code",
   "execution_count": null,
   "source": [
    "OBSERVATIONS = '***BASEDIR***training-output-reference/'\n",
    "BENCHNMARK = '***BASEDIR***training-output-benchmark/'\n"
   ],
   "outputs": [],
   "metadata": {}
  },
  {
   "cell_type": "code",
   "execution_count": null,
   "source": [
    "INPUT_DIR = '***BASEDIR***training-input/'\n",
    "OUTPUT_DIR = '***BASEDIR***processed/training-input/'\n",
    "CENTER = 'ecmwf'\n",
    "LABEL = 'hindcast'"
   ],
   "outputs": [],
   "metadata": {}
  },
  {
   "cell_type": "code",
   "execution_count": null,
   "source": [
    "INPUT_DIR = '***BASEDIR***test-input/'\n",
    "OUTPUT_DIR = '***BASEDIR***processed/test-input/'\n",
    "CENTER = 'ecmwf'\n",
    "LABEL = 'forecast'"
   ],
   "outputs": [],
   "metadata": {}
  },
  {
   "cell_type": "code",
   "execution_count": null,
   "source": [
    "#to_rechunk = ['t', 'gh', 'u', 'v']\n",
    "to_rechunk = ['u', 'v', 'gh']"
   ],
   "outputs": [],
   "metadata": {}
  },
  {
   "cell_type": "code",
   "execution_count": null,
   "source": [
    "levels = [200, 850, 500, 1000]"
   ],
   "outputs": [],
   "metadata": {}
  },
  {
   "cell_type": "code",
   "execution_count": null,
   "source": [
    "input_path = pathlib.Path(INPUT_DIR)\n",
    "output_path = pathlib.Path(OUTPUT_DIR)"
   ],
   "outputs": [],
   "metadata": {}
  },
  {
   "cell_type": "code",
   "execution_count": null,
   "source": [
    "input_path"
   ],
   "outputs": [],
   "metadata": {}
  },
  {
   "cell_type": "code",
   "execution_count": null,
   "source": [
    "output_path"
   ],
   "outputs": [],
   "metadata": {}
  },
  {
   "cell_type": "code",
   "execution_count": null,
   "source": [
    "output_path.mkdir(parents=True, exist_ok=True)"
   ],
   "outputs": [],
   "metadata": {}
  },
  {
   "cell_type": "code",
   "execution_count": null,
   "source": [
    "input_files = []\n",
    "for field in to_rechunk:\n",
    "    input_files.extend([f for f in input_path.iterdir() if CENTER in f.stem and f'-{field}-' in f.stem])\n",
    "    \n",
    "input_files = sorted(input_files)"
   ],
   "outputs": [],
   "metadata": {}
  },
  {
   "cell_type": "code",
   "execution_count": null,
   "source": [
    "input_files"
   ],
   "outputs": [],
   "metadata": {}
  },
  {
   "cell_type": "code",
   "execution_count": null,
   "source": [
    "input_files = [x for x in input_files if x.name.endswith('1231.nc')]"
   ],
   "outputs": [],
   "metadata": {}
  },
  {
   "cell_type": "code",
   "execution_count": null,
   "source": [
    "input_files"
   ],
   "outputs": [],
   "metadata": {}
  },
  {
   "cell_type": "code",
   "execution_count": null,
   "source": [
    "xr.open_dataset(input_files[0])"
   ],
   "outputs": [],
   "metadata": {}
  },
  {
   "cell_type": "code",
   "execution_count": null,
   "source": [
    "xr.open_dataset(input_files[-1])"
   ],
   "outputs": [],
   "metadata": {}
  },
  {
   "cell_type": "code",
   "execution_count": null,
   "source": [
    "[*_, field, datestring] = input_files[0].stem.split('-')"
   ],
   "outputs": [],
   "metadata": {}
  },
  {
   "cell_type": "code",
   "execution_count": null,
   "source": [
    "def do_one_file(f):\n",
    "    new_file = output_path / f.name\n",
    "    [*_, field, datestring] = f.stem.split('-')\n",
    "    \n",
    "    d = xr.open_dataset(f)\n",
    "    \n",
    "    #for level in d.plev:\n",
    "    for level in levels:\n",
    "        level_str = int(level)\n",
    "        new_filename = f'{CENTER}-{LABEL}-{field}{level_str}-{datestring}.nc'\n",
    "        new_path = output_path / new_filename\n",
    "        \n",
    "        #if new_path.is_file():\n",
    "        #    print(f'Skipping {new_path} because it exists.')\n",
    "        #    return\n",
    "        \n",
    "        subset = d.sel(plev=[level])\n",
    "        #print(new_path)\n",
    "        \n",
    "        subset.to_netcdf(new_path, mode='w')"
   ],
   "outputs": [],
   "metadata": {}
  },
  {
   "cell_type": "code",
   "execution_count": null,
   "source": [
    "input_files"
   ],
   "outputs": [],
   "metadata": {}
  },
  {
   "cell_type": "code",
   "execution_count": null,
   "source": [
    "do_one_file(input_files[0])"
   ],
   "outputs": [],
   "metadata": {
    "tags": []
   }
  },
  {
   "cell_type": "code",
   "execution_count": null,
   "source": [
    "!ls {OUTPUT_DIR}"
   ],
   "outputs": [],
   "metadata": {
    "tags": []
   }
  },
  {
   "cell_type": "code",
   "execution_count": null,
   "source": [
    "LABEL"
   ],
   "outputs": [],
   "metadata": {}
  },
  {
   "cell_type": "code",
   "execution_count": null,
   "source": [
    "len(input_files)"
   ],
   "outputs": [],
   "metadata": {}
  },
  {
   "cell_type": "code",
   "execution_count": null,
   "source": [
    "with multiprocessing.Pool(processes=8) as pool:\n",
    "    for _ in tqdm(pool.imap(do_one_file, input_files), total=len(input_files)):\n",
    "        pass"
   ],
   "outputs": [],
   "metadata": {
    "tags": []
   }
  },
  {
   "cell_type": "code",
   "execution_count": null,
   "source": [
    "for f in input_files:\n",
    "    new_file = output_path / f.name\n",
    "    datestring = f.stem.split('-')[-1]\n",
    "    \n",
    "    print(new_file)\n",
    "    d = xr.open_dataset(f)\n",
    "    d = fix_dataset_dims(d)\n",
    "    \n",
    "    for level in d.plev:\n",
    "        level_str = int(level.item())\n",
    "        new_filename = f'{CENTER}-{LABEL}-{FIELD}{level_str}-{datestring}.nc'\n",
    "        new_path = output_path / new_filename\n",
    "        subset = d.sel(plev=[level])\n",
    "        print(new_path)\n",
    "        \n",
    "        subset.to_netcdf(new_path, mode='w')\n",
    "    "
   ],
   "outputs": [],
   "metadata": {}
  },
  {
   "cell_type": "code",
   "execution_count": null,
   "source": [
    "output_files = sorted([f for f in output_path.iterdir() if '20200102' in f.stem])"
   ],
   "outputs": [],
   "metadata": {}
  },
  {
   "cell_type": "code",
   "execution_count": null,
   "source": [
    "xr.open_dataset(output_files[0])"
   ],
   "outputs": [],
   "metadata": {}
  },
  {
   "cell_type": "code",
   "execution_count": null,
   "source": [
    "xr.open_mfdataset(output_files)"
   ],
   "outputs": [],
   "metadata": {}
  },
  {
   "cell_type": "code",
   "execution_count": null,
   "source": [
    "input_files"
   ],
   "outputs": [],
   "metadata": {}
  },
  {
   "cell_type": "code",
   "execution_count": null,
   "source": [],
   "outputs": [],
   "metadata": {}
  }
 ],
 "metadata": {
  "kernelspec": {
   "display_name": "S2S Challenge",
   "language": "python",
   "name": "s2s"
  },
  "language_info": {
   "codemirror_mode": {
    "name": "ipython",
    "version": 3
   },
   "file_extension": ".py",
   "mimetype": "text/x-python",
   "name": "python",
   "nbconvert_exporter": "python",
   "pygments_lexer": "ipython3",
   "version": "3.8.10"
  }
 },
 "nbformat": 4,
 "nbformat_minor": 4
}