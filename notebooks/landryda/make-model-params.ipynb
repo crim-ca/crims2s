{
 "cells": [
  {
   "cell_type": "code",
   "execution_count": null,
   "metadata": {},
   "outputs": [],
   "source": [
    "%load_ext autoreload\n",
    "%autoreload 2"
   ]
  },
  {
   "cell_type": "code",
   "execution_count": null,
   "metadata": {},
   "outputs": [],
   "source": [
    "import pandas as pd\n",
    "import xarray as xr"
   ]
  },
  {
   "cell_type": "code",
   "execution_count": null,
   "metadata": {},
   "outputs": [],
   "source": [
    "from crims2s.distribution import fit_gamma_xarray\n",
    "from crims2s.mldataset import read_flat_fields, make_model_params\n",
    "from crims2s.util import add_biweekly_dim"
   ]
  },
  {
   "cell_type": "code",
   "execution_count": null,
   "metadata": {},
   "outputs": [],
   "source": [
    "INPUT_DIR = '***BASEDIR***/training-input/'"
   ]
  },
  {
   "cell_type": "code",
   "execution_count": null,
   "metadata": {},
   "outputs": [],
   "source": [
    "eccc_data = read_flat_fields(INPUT_DIR, \"eccc\", [\"t2m\", \"tp\"], '20200102', file_label='hindcast')\n",
    "eccc_data = (\n",
    "    eccc_data.isel(forecast_monthday=0)\n",
    "    .sel(forecast_year=2000)\n",
    "    .transpose(\"lead_time\", \"latitude\", \"longitude\", \"realization\")\n",
    ")"
   ]
  },
  {
   "cell_type": "code",
   "execution_count": null,
   "metadata": {},
   "outputs": [],
   "source": [
    "eccc_data"
   ]
  },
  {
   "cell_type": "code",
   "execution_count": null,
   "metadata": {},
   "outputs": [],
   "source": [
    "eccc_data.valid_time.compute()"
   ]
  },
  {
   "cell_type": "code",
   "execution_count": null,
   "metadata": {},
   "outputs": [],
   "source": [
    "eccc_data.tp.interpolate_na(dim='realization').compute()"
   ]
  },
  {
   "cell_type": "code",
   "execution_count": null,
   "metadata": {},
   "outputs": [],
   "source": [
    "ds = make_model_params(eccc_data, interp_tp_na=True, )"
   ]
  },
  {
   "cell_type": "code",
   "execution_count": null,
   "metadata": {},
   "outputs": [],
   "source": [
    "ds.tp_cube_root_sigma.isel(biweekly_forecast=0).plot()"
   ]
  },
  {
   "cell_type": "code",
   "execution_count": null,
   "metadata": {},
   "outputs": [],
   "source": [
    "model_biweekly = add_biweekly_dim(eccc_data, weeks_12=False)"
   ]
  },
  {
   "cell_type": "code",
   "execution_count": null,
   "metadata": {},
   "outputs": [],
   "source": [
    "max_valid_time = model_biweekly.forecast_time + pd.to_timedelta('32D')"
   ]
  },
  {
   "cell_type": "code",
   "execution_count": null,
   "metadata": {},
   "outputs": [],
   "source": [
    "max_leads = model_biweekly.valid_time.where(model_biweekly.valid_time < max_valid_time, model_biweekly.forecast_time).argmax(dim='lead_time')"
   ]
  },
  {
   "cell_type": "code",
   "execution_count": null,
   "metadata": {},
   "outputs": [],
   "source": []
  },
  {
   "cell_type": "code",
   "execution_count": null,
   "metadata": {},
   "outputs": [],
   "source": [
    "max_leads"
   ]
  },
  {
   "cell_type": "code",
   "execution_count": null,
   "metadata": {},
   "outputs": [],
   "source": [
    "model_biweekly.valid_time"
   ]
  },
  {
   "cell_type": "code",
   "execution_count": null,
   "metadata": {},
   "outputs": [],
   "source": [
    "nointerp = model_biweekly.isel(lead_time=max_leads).tp.isel(biweekly_forecast=1, realization=0)\n",
    "interp = model_biweekly.isel(lead_time=max_leads).tp.isel(biweekly_forecast=1, realization=0).interpolate_na(dim='longitude')\n",
    "\n",
    "diff = nointerp != interp"
   ]
  },
  {
   "cell_type": "code",
   "execution_count": null,
   "metadata": {},
   "outputs": [],
   "source": [
    "interp.where(diff).mean().std().compute()"
   ]
  },
  {
   "cell_type": "code",
   "execution_count": null,
   "metadata": {},
   "outputs": [],
   "source": [
    "interp_model_biweekly = model_biweekly.isel(lead_time=max_leads)\n",
    "for max_gap in [1, 5, 10]:\n",
    "    interp_model_biweekly = model_biweekly.interpolate_na(dim='longitude', max_gap=max_gap, use_coordinate=False).interpolate_na(dim='latitude', max_gap=max_gap, use_coordinate=False)"
   ]
  },
  {
   "cell_type": "code",
   "execution_count": null,
   "metadata": {},
   "outputs": [],
   "source": [
    "interp_model_biweekly.isel(lead_time=max_leads).tp.isel(realization=1, biweekly_forecast=0).isnull().plot()"
   ]
  },
  {
   "cell_type": "code",
   "execution_count": null,
   "metadata": {},
   "outputs": [],
   "source": [
    "interp_model_biweekly.isel(lead_time=max_leads).isnull().any(dim=['latitude', 'longitude']).compute()"
   ]
  },
  {
   "cell_type": "code",
   "execution_count": null,
   "metadata": {},
   "outputs": [],
   "source": [
    "fit_gamma_xarray(interp_model_biweekly.isel(lead_time=max_leads).tp, dim='realization')"
   ]
  },
  {
   "cell_type": "code",
   "execution_count": null,
   "metadata": {},
   "outputs": [],
   "source": []
  }
 ],
 "metadata": {
  "kernelspec": {
   "display_name": "S2S Challenge",
   "language": "python",
   "name": "s2s"
  },
  "language_info": {
   "codemirror_mode": {
    "name": "ipython",
    "version": 3
   },
   "file_extension": ".py",
   "mimetype": "text/x-python",
   "name": "python",
   "nbconvert_exporter": "python",
   "pygments_lexer": "ipython3",
   "version": "3.8.12"
  }
 },
 "nbformat": 4,
 "nbformat_minor": 4
}
