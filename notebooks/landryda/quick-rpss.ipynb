{
 "cells": [
  {
   "cell_type": "code",
   "execution_count": null,
   "source": [
    "import numpy as np\n",
    "import xarray as xr\n",
    "import xskillscore as xs"
   ],
   "outputs": [],
   "metadata": {}
  },
  {
   "cell_type": "code",
   "execution_count": null,
   "source": [
    "FORECAST = \"***BASEDIR***/runs/infer/outputs/2021-09-07/14-28-19/normal_normal_monthly.nc\"\n",
    "OBS = \"***BASEDIR***/last-validation-files-from-organizers/forecast-like-observations_2020_biweekly_terciled.nc\"\n",
    "REFERENCE = \"***BASEDIR***//last-validation-files-from-organizers/ML_prediction_2020.nc\"\n",
    "\n",
    "reference = xr.open_dataset(REFERENCE)"
   ],
   "outputs": [],
   "metadata": {}
  },
  {
   "cell_type": "code",
   "execution_count": null,
   "source": [
    "FORECAST = \"***BASEDIR***/ml-output/2021-08-30/normal_normal_monthly-without-validtime.nc\"\n",
    "OBS = \"***BASEDIR***2/from-template-lfs/hindcast-like_observations_2000-2019_biweekly_terciled.nc\"\n",
    "\n",
    "reference_t2m = xr.open_dataset('***BASEDIR***/training-output-benchmark/t2m.nc')\n",
    "reference_tp = xr.open_dataset('***BASEDIR***/training-output-benchmark/tp.nc')\n",
    "reference = xr.merge([reference_t2m, reference_tp])"
   ],
   "outputs": [],
   "metadata": {}
  },
  {
   "cell_type": "code",
   "execution_count": null,
   "source": [],
   "outputs": [],
   "metadata": {}
  },
  {
   "cell_type": "code",
   "execution_count": null,
   "source": [
    "reference"
   ],
   "outputs": [],
   "metadata": {}
  },
  {
   "cell_type": "code",
   "execution_count": null,
   "source": [
    "def make_climatology():\n",
    "    clim = xr.DataArray([1/3, 1/3, 1/3], dims='category', coords={'category':['below normal', 'near normal', 'above normal']}).to_dataset(name='tp')\n",
    "    clim['t2m'] = clim['tp']\n",
    "    \n",
    "    return clim"
   ],
   "outputs": [],
   "metadata": {}
  },
  {
   "cell_type": "code",
   "execution_count": null,
   "source": [
    "def compute_arlan_rpss(forecast_rps, clim_rps):\n",
    "    \"\"\"\n",
    "    Compute RPSS according to Arlan's definition\n",
    "    \"\"\"\n",
    "\n",
    "    weights = np.cos(np.deg2rad(np.abs(clim_rps.latitude)))\n",
    "\n",
    "    latitude_longitude_sum_ML = (forecast_rps) * weights\n",
    "    latitude_longitude_sum_clim = (clim_rps) * weights\n",
    "\n",
    "    return 1 - latitude_longitude_sum_ML/latitude_longitude_sum_clim"
   ],
   "outputs": [],
   "metadata": {}
  },
  {
   "cell_type": "code",
   "execution_count": null,
   "source": [
    "forecast = xr.open_dataset(FORECAST)"
   ],
   "outputs": [],
   "metadata": {}
  },
  {
   "cell_type": "code",
   "execution_count": null,
   "source": [
    "obs = xr.open_dataset(OBS)"
   ],
   "outputs": [],
   "metadata": {}
  },
  {
   "cell_type": "code",
   "execution_count": null,
   "source": [
    "reference = reference.sel(forecast_time=forecast.forecast_time)"
   ],
   "outputs": [],
   "metadata": {}
  },
  {
   "cell_type": "code",
   "execution_count": null,
   "source": [
    "rps_ml = xs.rps(obs, forecast, category_edges=None, dim='forecast_time', input_distributions='p')         \n",
    "rps_clim = xs.rps(obs, make_climatology(), category_edges=None, dim='forecast_time', input_distributions='p')\n",
    "rps_ref = xs.rps(obs, reference, category_edges=None, dim='forecast_time', input_distributions='p')"
   ],
   "outputs": [],
   "metadata": {}
  },
  {
   "cell_type": "code",
   "execution_count": null,
   "source": [
    "rpss_ours_clim = compute_arlan_rpss(rps_ml, rps_clim)"
   ],
   "outputs": [],
   "metadata": {}
  },
  {
   "cell_type": "code",
   "execution_count": null,
   "source": [
    "rpss_ours_reference = compute_arlan_rpss(rps_ml, rps_ref)"
   ],
   "outputs": [],
   "metadata": {}
  },
  {
   "cell_type": "code",
   "execution_count": null,
   "source": [
    "rpss_ours_clim"
   ],
   "outputs": [],
   "metadata": {}
  },
  {
   "cell_type": "code",
   "execution_count": null,
   "source": [
    "1.0 - (rps_ml.sum(dim=['latitude', 'longitude']) / rps_ref.sum(dim=['latitude', 'longitude']))"
   ],
   "outputs": [],
   "metadata": {}
  },
  {
   "cell_type": "code",
   "execution_count": null,
   "source": [
    "rpss_ours_clim.t2m.sel(latitude=slice(90,-60)).plot(size=4, aspect=2, col='lead_time')"
   ],
   "outputs": [],
   "metadata": {}
  },
  {
   "cell_type": "code",
   "execution_count": null,
   "source": [
    "rpss_ours_clim.tp.sel(latitude=slice(90,-60)).plot(size=4, aspect=2, col='lead_time')"
   ],
   "outputs": [],
   "metadata": {}
  },
  {
   "cell_type": "code",
   "execution_count": null,
   "source": [
    "rpss_ours_clim.isel(lead_time=0).tp.plot()"
   ],
   "outputs": [],
   "metadata": {}
  },
  {
   "cell_type": "code",
   "execution_count": null,
   "source": [
    "rpss_ours_reference.isel(lead_time=0).t2m.plot()"
   ],
   "outputs": [],
   "metadata": {}
  },
  {
   "cell_type": "code",
   "execution_count": null,
   "source": [
    "rps_ref.isel(lead_time=0).t2m.plot()"
   ],
   "outputs": [],
   "metadata": {}
  },
  {
   "cell_type": "code",
   "execution_count": null,
   "source": [
    "rpss.isel(lead_time=0).t2m.plot()"
   ],
   "outputs": [],
   "metadata": {}
  },
  {
   "cell_type": "code",
   "execution_count": null,
   "source": [
    "reference.t2m.isel(lead_time=0, category=0, forecast_time=0)"
   ],
   "outputs": [],
   "metadata": {}
  },
  {
   "cell_type": "code",
   "execution_count": null,
   "source": [
    "rps_ref.isel(lead_time=0).t2m.plot()"
   ],
   "outputs": [],
   "metadata": {}
  },
  {
   "cell_type": "code",
   "execution_count": null,
   "source": [
    "rps_ml.mean()"
   ],
   "outputs": [],
   "metadata": {}
  },
  {
   "cell_type": "code",
   "execution_count": null,
   "source": [
    "rps_ml.t2m.isel(lead_time=1).plot()"
   ],
   "outputs": [],
   "metadata": {}
  },
  {
   "cell_type": "code",
   "execution_count": null,
   "source": [
    "rps_clim.t2m.isel(lead_time=1).plot()"
   ],
   "outputs": [],
   "metadata": {}
  },
  {
   "cell_type": "code",
   "execution_count": null,
   "source": [
    "1.0 - (rps_ml.sum(dim=['latitude', 'longitude']) / rps_clim.sum(dim=['latitude', 'longitude']))"
   ],
   "outputs": [],
   "metadata": {}
  },
  {
   "cell_type": "code",
   "execution_count": null,
   "source": [
    "rps_ml.mean(dim=['latitude', 'longitude'])"
   ],
   "outputs": [],
   "metadata": {}
  },
  {
   "cell_type": "code",
   "execution_count": null,
   "source": [
    "rps_clim.mean(dim=['latitude', 'longitude'])"
   ],
   "outputs": [],
   "metadata": {}
  },
  {
   "cell_type": "code",
   "execution_count": null,
   "source": [],
   "outputs": [],
   "metadata": {}
  }
 ],
 "metadata": {
  "kernelspec": {
   "display_name": "S2S Challenge",
   "language": "python",
   "name": "s2s"
  },
  "language_info": {
   "codemirror_mode": {
    "name": "ipython",
    "version": 3
   },
   "file_extension": ".py",
   "mimetype": "text/x-python",
   "name": "python",
   "nbconvert_exporter": "python",
   "pygments_lexer": "ipython3",
   "version": "3.8.10"
  }
 },
 "nbformat": 4,
 "nbformat_minor": 4
}