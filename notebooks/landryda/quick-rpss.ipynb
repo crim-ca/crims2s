{
 "cells": [
  {
   "cell_type": "code",
   "execution_count": null,
   "metadata": {},
   "outputs": [],
   "source": [
    "import numpy as np\n",
    "import xarray as xr\n",
    "import xskillscore as xs"
   ]
  },
  {
   "cell_type": "code",
   "execution_count": null,
   "metadata": {},
   "outputs": [],
   "source": [
    "FORECAST = \"***BASEDIR***/runs/infer/outputs/2021-09-07/14-28-19/normal_normal_monthly.nc\"\n",
    "OBS = \"***BASEDIR***/last-validation-files-from-organizers/forecast-like-observations_2020_biweekly_terciled.nc\"\n",
    "REFERENCE = \"***BASEDIR***//last-validation-files-from-organizers/ML_prediction_2020.nc\"\n",
    "\n",
    "reference = xr.open_dataset(REFERENCE)"
   ]
  },
  {
   "cell_type": "code",
   "execution_count": null,
   "metadata": {},
   "outputs": [],
   "source": [
    "FORECAST = \"***BASEDIR***/ml-output/2021-08-30/normal_normal_monthly-without-validtime.nc\"\n",
    "OBS = \"***BASEDIR***2/from-template-lfs/hindcast-like_observations_2000-2019_biweekly_terciled.nc\"\n",
    "\n",
    "reference_t2m = xr.open_dataset('***BASEDIR***/training-output-benchmark/t2m.nc')\n",
    "reference_tp = xr.open_dataset('***BASEDIR***/training-output-benchmark/tp.nc')\n",
    "reference = xr.merge([reference_t2m, reference_tp])"
   ]
  },
  {
   "cell_type": "code",
   "execution_count": null,
   "metadata": {},
   "outputs": [],
   "source": [
    "FORECAST = \"***BASEDIR***/runs/infer/outputs/2021-09-16/16-01-21/bayes_conv_512.nc\"\n",
    "OBS = \"***BASEDIR***/last-validation-files-from-organizers/forecast-like-observations_2020_biweekly_terciled.nc\"\n",
    "REFERENCE = \"***BASEDIR***//last-validation-files-from-organizers/ML_prediction_2020.nc\"\n",
    "\n",
    "reference = xr.open_dataset(REFERENCE)"
   ]
  },
  {
   "cell_type": "code",
   "execution_count": null,
   "metadata": {},
   "outputs": [],
   "source": [
    "FORECAST = \"***BASEDIR***/runs/infer/outputs/2021-09-15/11-03-14/bayes_conv.nc\"\n",
    "OBS = \"***BASEDIR***/last-validation-files-from-organizers/forecast-like-observations_2020_biweekly_terciled.nc\"\n",
    "\n",
    "reference = xr.open_dataset(REFERENCE)"
   ]
  },
  {
   "cell_type": "code",
   "execution_count": null,
   "metadata": {},
   "outputs": [],
   "source": [
    "FORECAST = \"***BASEDIR***/runs/infer/outputs/2021-09-28/18-15-38/emos_mix.nc\"\n",
    "OBS = \"***BASEDIR***/last-validation-files-from-organizers/forecast-like-observations_2020_biweekly_terciled.nc\"\n",
    "REFERENCE = \"***BASEDIR***//last-validation-files-from-organizers/ML_prediction_2020.nc\"\n",
    "OTHER = '***BASEDIR***/runs/infer/outputs/2021-09-27/11-47-01/bayes_eccc_ncep.nc'\n",
    "\n",
    "\n",
    "reference = xr.open_dataset(REFERENCE)"
   ]
  },
  {
   "cell_type": "code",
   "execution_count": null,
   "metadata": {},
   "outputs": [],
   "source": [
    "reference"
   ]
  },
  {
   "cell_type": "code",
   "execution_count": null,
   "metadata": {},
   "outputs": [],
   "source": [
    "def make_climatology():\n",
    "    clim = xr.DataArray([1/3, 1/3, 1/3], dims='category', coords={'category':['below normal', 'near normal', 'above normal']}).to_dataset(name='tp')\n",
    "    clim['t2m'] = clim['tp']\n",
    "    \n",
    "    return clim"
   ]
  },
  {
   "cell_type": "code",
   "execution_count": null,
   "metadata": {},
   "outputs": [],
   "source": [
    "def compute_arlan_rpss(forecast_rps, clim_rps):\n",
    "    \"\"\"\n",
    "    Compute RPSS according to Arlan's definition\n",
    "    \"\"\"\n",
    "\n",
    "    weights = np.cos(np.deg2rad(np.abs(clim_rps.latitude)))\n",
    "\n",
    "    latitude_longitude_sum_ML = (forecast_rps) * weights\n",
    "    latitude_longitude_sum_clim = (clim_rps) * weights\n",
    "\n",
    "    return 1 - latitude_longitude_sum_ML/latitude_longitude_sum_clim"
   ]
  },
  {
   "cell_type": "code",
   "execution_count": null,
   "metadata": {},
   "outputs": [],
   "source": [
    "forecast = xr.open_dataset(FORECAST)"
   ]
  },
  {
   "cell_type": "code",
   "execution_count": null,
   "metadata": {},
   "outputs": [],
   "source": [
    "obs = xr.open_dataset(OBS)"
   ]
  },
  {
   "cell_type": "code",
   "execution_count": null,
   "metadata": {},
   "outputs": [],
   "source": [
    "reference = reference.sel(forecast_time=forecast.forecast_time)"
   ]
  },
  {
   "cell_type": "code",
   "execution_count": null,
   "metadata": {},
   "outputs": [],
   "source": [
    "other = xr.open_dataset(OTHER)"
   ]
  },
  {
   "cell_type": "code",
   "execution_count": null,
   "metadata": {},
   "outputs": [],
   "source": [
    "emos = xr.open_dataset('***BASEDIR***/runs/infer/outputs/2021-09-07/14-28-19/normal_normal_monthly.nc')"
   ]
  },
  {
   "cell_type": "code",
   "execution_count": null,
   "metadata": {},
   "outputs": [],
   "source": [
    "rps_emos = xs.rps(obs, emos,  category_edges=None, dim='forecast_time', input_distributions='p')\n",
    "rps_ml = xs.rps(obs, forecast, category_edges=None, dim='forecast_time', input_distributions='p')         \n",
    "rps_clim = xs.rps(obs, make_climatology(), category_edges=None, dim='forecast_time', input_distributions='p')\n",
    "rps_ref = xs.rps(obs, reference, category_edges=None, dim='forecast_time', input_distributions='p')\n",
    "rps_other = xs.rps(obs, other, category_edges=None, dim='forecast_time', input_distributions='p')"
   ]
  },
  {
   "cell_type": "code",
   "execution_count": null,
   "metadata": {},
   "outputs": [],
   "source": [
    "rps_ml.isel(lead_time=0).tp.plot()"
   ]
  },
  {
   "cell_type": "code",
   "execution_count": null,
   "metadata": {},
   "outputs": [],
   "source": [
    "rps_emos.mean(dim=['latitude', 'longitude'])"
   ]
  },
  {
   "cell_type": "code",
   "execution_count": null,
   "metadata": {},
   "outputs": [],
   "source": [
    "rps_ml.mean(dim=['latitude', 'longitude'])"
   ]
  },
  {
   "cell_type": "code",
   "execution_count": null,
   "metadata": {},
   "outputs": [],
   "source": [
    "rps_clim.mean(dim=['latitude', 'longitude'])"
   ]
  },
  {
   "cell_type": "code",
   "execution_count": null,
   "metadata": {},
   "outputs": [],
   "source": [
    "rps_ref.mean(dim=['latitude', 'longitude'])"
   ]
  },
  {
   "cell_type": "code",
   "execution_count": null,
   "metadata": {},
   "outputs": [],
   "source": []
  },
  {
   "cell_type": "code",
   "execution_count": null,
   "metadata": {},
   "outputs": [],
   "source": [
    "rpss_ours_other = compute_arlan_rpss(rps_ml, rps_other)"
   ]
  },
  {
   "cell_type": "code",
   "execution_count": null,
   "metadata": {},
   "outputs": [],
   "source": [
    "rpss_ours_other.isel(lead_time=0).t2m.plot()"
   ]
  },
  {
   "cell_type": "code",
   "execution_count": null,
   "metadata": {},
   "outputs": [],
   "source": [
    "rps_ml"
   ]
  },
  {
   "cell_type": "code",
   "execution_count": null,
   "metadata": {},
   "outputs": [],
   "source": [
    "rpss_ours_clim.t2m.isel(lead_time=0).plot()"
   ]
  },
  {
   "cell_type": "code",
   "execution_count": null,
   "metadata": {},
   "outputs": [],
   "source": [
    "rpss_ours_reference = compute_arlan_rpss(rps_ml, rps_ref)"
   ]
  },
  {
   "cell_type": "code",
   "execution_count": null,
   "metadata": {},
   "outputs": [],
   "source": [
    "rpss_ours_reference.tp.isel(lead_time=0).plot()"
   ]
  },
  {
   "cell_type": "code",
   "execution_count": null,
   "metadata": {},
   "outputs": [],
   "source": [
    "rpss_ours_emos = compute_arlan_rpss(rps_ml, rps_emos)"
   ]
  },
  {
   "cell_type": "code",
   "execution_count": null,
   "metadata": {},
   "outputs": [],
   "source": [
    "rpss_ours_emos.tp.isel(lead_time=0).plot()"
   ]
  },
  {
   "cell_type": "code",
   "execution_count": null,
   "metadata": {},
   "outputs": [],
   "source": [
    "rpss_ours_emos.mean(dim=['latitude', 'longitude'])"
   ]
  },
  {
   "cell_type": "code",
   "execution_count": null,
   "metadata": {},
   "outputs": [],
   "source": [
    "rps_clim.isel(lead_time=0).sel(latitude=slice(90,-60)).tp.plot()"
   ]
  },
  {
   "cell_type": "code",
   "execution_count": null,
   "metadata": {},
   "outputs": [],
   "source": [
    "rpss_ours_clim"
   ]
  },
  {
   "cell_type": "code",
   "execution_count": null,
   "metadata": {},
   "outputs": [],
   "source": [
    "rpss_ours_clim.t2m.isel(lead_time=1).plot()"
   ]
  },
  {
   "cell_type": "code",
   "execution_count": null,
   "metadata": {},
   "outputs": [],
   "source": [
    "1.0 - (rps_ml.sum(dim=['latitude', 'longitude']) / rps_ref.sum(dim=['latitude', 'longitude']))"
   ]
  },
  {
   "cell_type": "code",
   "execution_count": null,
   "metadata": {},
   "outputs": [],
   "source": [
    "rpss_ours_emos.t2m.sel(latitude=slice(90,-60)).plot(size=4, aspect=2, col='lead_time')"
   ]
  },
  {
   "cell_type": "code",
   "execution_count": null,
   "metadata": {},
   "outputs": [],
   "source": [
    "rps_ml.tp.isel(lead_time=1).plot()"
   ]
  },
  {
   "cell_type": "code",
   "execution_count": null,
   "metadata": {},
   "outputs": [],
   "source": [
    "rpss_ours_clim.tp.sel(latitude=slice(90,-60)).plot(size=4, aspect=2, col='lead_time')"
   ]
  },
  {
   "cell_type": "code",
   "execution_count": null,
   "metadata": {},
   "outputs": [],
   "source": [
    "rpss_ours_clim.isel(lead_time=0).tp.plot()"
   ]
  },
  {
   "cell_type": "code",
   "execution_count": null,
   "metadata": {},
   "outputs": [],
   "source": [
    "rpss_ours_reference.isel(lead_time=0).t2m.plot()"
   ]
  },
  {
   "cell_type": "code",
   "execution_count": null,
   "metadata": {},
   "outputs": [],
   "source": [
    "rps_ref.isel(lead_time=0).t2m.plot()"
   ]
  },
  {
   "cell_type": "code",
   "execution_count": null,
   "metadata": {},
   "outputs": [],
   "source": [
    "rpss.isel(lead_time=0).t2m.plot()"
   ]
  },
  {
   "cell_type": "code",
   "execution_count": null,
   "metadata": {},
   "outputs": [],
   "source": [
    "reference.t2m.isel(lead_time=0, category=0, forecast_time=0)"
   ]
  },
  {
   "cell_type": "code",
   "execution_count": null,
   "metadata": {},
   "outputs": [],
   "source": [
    "rps_ref.isel(lead_time=0).t2m.plot()"
   ]
  },
  {
   "cell_type": "code",
   "execution_count": null,
   "metadata": {},
   "outputs": [],
   "source": [
    "rps_ml.mean()"
   ]
  },
  {
   "cell_type": "code",
   "execution_count": null,
   "metadata": {},
   "outputs": [],
   "source": [
    "rps_ml.t2m.isel(lead_time=1).plot()"
   ]
  },
  {
   "cell_type": "code",
   "execution_count": null,
   "metadata": {},
   "outputs": [],
   "source": [
    "rps_clim.t2m.isel(lead_time=1).plot()"
   ]
  },
  {
   "cell_type": "code",
   "execution_count": null,
   "metadata": {},
   "outputs": [],
   "source": [
    "1.0 - (rps_ml.sum(dim=['latitude', 'longitude']) / rps_clim.sum(dim=['latitude', 'longitude']))"
   ]
  },
  {
   "cell_type": "code",
   "execution_count": null,
   "metadata": {},
   "outputs": [],
   "source": [
    "rps_ml.mean(dim=['latitude', 'longitude'])"
   ]
  },
  {
   "cell_type": "code",
   "execution_count": null,
   "metadata": {},
   "outputs": [],
   "source": [
    "rps_clim.mean(dim=['latitude', 'longitude'])"
   ]
  },
  {
   "cell_type": "code",
   "execution_count": null,
   "metadata": {},
   "outputs": [],
   "source": []
  }
 ],
 "metadata": {
  "kernelspec": {
   "display_name": "S2S Challenge",
   "language": "python",
   "name": "s2s"
  },
  "language_info": {
   "codemirror_mode": {
    "name": "ipython",
    "version": 3
   },
   "file_extension": ".py",
   "mimetype": "text/x-python",
   "name": "python",
   "nbconvert_exporter": "python",
   "pygments_lexer": "ipython3",
   "version": "3.8.12"
  }
 },
 "nbformat": 4,
 "nbformat_minor": 4
}
