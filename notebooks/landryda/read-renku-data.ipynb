{
 "cells": [
  {
   "cell_type": "code",
   "execution_count": 1,
   "source": [
    "import pathlib\n",
    "import xarray as xr"
   ],
   "outputs": [],
   "metadata": {}
  },
  {
   "cell_type": "code",
   "execution_count": null,
   "source": [
    "RENKU_DATA_DIR = '***HOME***fast_scratch/s2s/audit/s2s-ai-challenge-template/data'\n",
    "renku_data_path = pathlib.Path(RENKU_DATA_DIR)"
   ],
   "outputs": [],
   "metadata": {}
  },
  {
   "cell_type": "code",
   "execution_count": null,
   "source": [
    "AUDITED_DIR = '***BASEDIR***2/from-template-lfs/'\n",
    "audited_path = pathlib.Path(AUDITED_DIR)"
   ],
   "outputs": [],
   "metadata": {}
  },
  {
   "cell_type": "markdown",
   "source": [
    "## Hindcast obs deterministic"
   ],
   "metadata": {}
  },
  {
   "cell_type": "code",
   "execution_count": null,
   "source": [
    "hindcast_obs_deterministic = xr.open_dataset(renku_data_path / 'hindcast-like-observations_2000-2019_biweekly_deterministic.zarr', engine='zarr')"
   ],
   "outputs": [],
   "metadata": {}
  },
  {
   "cell_type": "code",
   "execution_count": null,
   "source": [
    "hindcast_obs_deterministic"
   ],
   "outputs": [],
   "metadata": {}
  },
  {
   "cell_type": "code",
   "execution_count": null,
   "source": [
    "hindcast_obs_deterministic.isel(forecast_time=1000, lead_time=0).t2m.plot()"
   ],
   "outputs": [],
   "metadata": {}
  },
  {
   "cell_type": "code",
   "execution_count": null,
   "source": [
    "hindcast_obs_deterministic.to_netcdf(audited_path / 'hindcast-like_observations_2000-2019_biweekly_deterministic.nc')"
   ],
   "outputs": [],
   "metadata": {}
  },
  {
   "cell_type": "markdown",
   "source": [
    "## Hindcast obs terciled"
   ],
   "metadata": {}
  },
  {
   "cell_type": "code",
   "execution_count": null,
   "source": [
    "hindcast_obs_terciled = xr.open_dataset(renku_data_path / 'hindcast-like-observations_2000-2019_biweekly_terciled.zarr', engine='zarr')"
   ],
   "outputs": [],
   "metadata": {}
  },
  {
   "cell_type": "code",
   "execution_count": null,
   "source": [
    "hindcast_obs_terciled"
   ],
   "outputs": [],
   "metadata": {}
  },
  {
   "cell_type": "code",
   "execution_count": null,
   "source": [
    "hindcast_obs_terciled.to_netcdf(audited_path / 'hindcast-like_observations_2000-2019_biweekly_terciled.nc')"
   ],
   "outputs": [],
   "metadata": {}
  },
  {
   "cell_type": "markdown",
   "source": [
    "## Hindcast tercile edges"
   ],
   "metadata": {}
  },
  {
   "cell_type": "code",
   "execution_count": null,
   "source": [
    "hindcast_tercile_edges = xr.open_dataset(renku_data_path / 'hindcast-like-observations_2000-2019_biweekly_tercile-edges.nc')"
   ],
   "outputs": [],
   "metadata": {}
  },
  {
   "cell_type": "code",
   "execution_count": null,
   "source": [
    "hindcast_tercile_edges"
   ],
   "outputs": [],
   "metadata": {}
  },
  {
   "cell_type": "code",
   "execution_count": null,
   "source": [
    "!cp {RENKU_DATA_DIR}/hindcast-like-observations_2000-2019_biweekly_tercile-edges.nc {AUDITED_DIR}/hindcast-like-observations_2000-2019_biweekly_tercile-edges.nc"
   ],
   "outputs": [],
   "metadata": {}
  },
  {
   "cell_type": "markdown",
   "source": [
    "## Forecast obs deterministic"
   ],
   "metadata": {}
  },
  {
   "cell_type": "code",
   "execution_count": null,
   "source": [
    "forecast_obs_deterministic = xr.open_dataset(renku_data_path / 'forecast-like-observations_2020_biweekly_deterministic.zarr', engine='zarr')"
   ],
   "outputs": [],
   "metadata": {}
  },
  {
   "cell_type": "code",
   "execution_count": null,
   "source": [
    "forecast_obs_deterministic.to_netcdf(audited_path / 'forecast-like_observations_2020_biweekly_deterministic.nc')"
   ],
   "outputs": [],
   "metadata": {}
  },
  {
   "cell_type": "markdown",
   "source": [
    "## Forecast obs terciled"
   ],
   "metadata": {}
  },
  {
   "cell_type": "code",
   "execution_count": null,
   "source": [
    "forecast_obs_terciled = xr.open_dataset(renku_data_path / 'forecast-like-observations_2020_biweekly_terciled.nc')"
   ],
   "outputs": [],
   "metadata": {}
  },
  {
   "cell_type": "code",
   "execution_count": null,
   "source": [
    "forecast_obs_terciled.to_netcdf(audited_path / 'forecast-like_observations_2020_biweekly_terciled.nc')"
   ],
   "outputs": [],
   "metadata": {}
  },
  {
   "cell_type": "markdown",
   "source": [
    "## Forecast obs edges"
   ],
   "metadata": {}
  },
  {
   "cell_type": "code",
   "execution_count": null,
   "source": [
    "## Missing from renku... use CML?"
   ],
   "outputs": [],
   "metadata": {}
  },
  {
   "cell_type": "code",
   "execution_count": null,
   "source": [],
   "outputs": [],
   "metadata": {}
  },
  {
   "cell_type": "markdown",
   "source": [
    "# Check nan masks"
   ],
   "metadata": {}
  },
  {
   "cell_type": "code",
   "execution_count": null,
   "source": [
    "hindcast_obs_terciled.isel(category=0, lead_time=0).sel(forecast_time='2000-01-02')"
   ],
   "outputs": [],
   "metadata": {}
  },
  {
   "cell_type": "code",
   "execution_count": null,
   "source": [
    "hindcast_tercile_edges"
   ],
   "outputs": [],
   "metadata": {}
  },
  {
   "cell_type": "code",
   "execution_count": null,
   "source": [
    "hindcast_tercile_edges.isel(week=0, category_edge=0).isnull() & ~hindcast_obs_terciled.isel(category=0).sel(forecast_time='2000-01-02').isnull()"
   ],
   "outputs": [],
   "metadata": {}
  },
  {
   "cell_type": "code",
   "execution_count": null,
   "source": [],
   "outputs": [],
   "metadata": {}
  },
  {
   "cell_type": "code",
   "execution_count": null,
   "source": [],
   "outputs": [],
   "metadata": {}
  }
 ],
 "metadata": {
  "kernelspec": {
   "display_name": "S2S Challenge",
   "language": "python",
   "name": "s2s"
  },
  "language_info": {
   "codemirror_mode": {
    "name": "ipython",
    "version": 3
   },
   "file_extension": ".py",
   "mimetype": "text/x-python",
   "name": "python",
   "nbconvert_exporter": "python",
   "pygments_lexer": "ipython3",
   "version": "3.8.12"
  }
 },
 "nbformat": 4,
 "nbformat_minor": 4
}