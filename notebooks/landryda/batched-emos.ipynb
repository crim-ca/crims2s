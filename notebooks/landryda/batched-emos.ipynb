{
 "cells": [
  {
   "cell_type": "code",
   "execution_count": null,
   "source": [
    "%load_ext autoreload\n",
    "%autoreload 2"
   ],
   "outputs": [],
   "metadata": {}
  },
  {
   "cell_type": "code",
   "execution_count": null,
   "source": [
    "import hydra\n",
    "import matplotlib.pyplot as plt\n",
    "import torch\n",
    "import torch.nn as nn"
   ],
   "outputs": [],
   "metadata": {}
  },
  {
   "cell_type": "code",
   "execution_count": null,
   "source": [
    "from crims2s.dataset import S2SDataset, TransformedDataset\n",
    "from crims2s.training.model.emos import NormalEMOSModel, LinearModel, NormalCubeNormalEMOS\n",
    "from crims2s.training.model.util import PytorchMultiplexer\n",
    "from crims2s.transform import AddLatLonFeature, AddBiweeklyDimTransform, CompositeTransform\n",
    "from crims2s.util import ECMWF_FORECASTS"
   ],
   "outputs": [],
   "metadata": {}
  },
  {
   "cell_type": "code",
   "execution_count": null,
   "source": [
    "with hydra.initialize_config_module('crims2s.training.conf'):\n",
    "    cfg = hydra.compose('config', overrides=['experiment/transform=latlon'])"
   ],
   "outputs": [],
   "metadata": {}
  },
  {
   "cell_type": "code",
   "execution_count": null,
   "source": [
    "t = hydra.utils.instantiate(cfg.experiment.transform)"
   ],
   "outputs": [],
   "metadata": {}
  },
  {
   "cell_type": "code",
   "execution_count": null,
   "source": [
    "d = TransformedDataset(S2SDataset(cfg.experiment.dataset.dataset_dir), t)"
   ],
   "outputs": [],
   "metadata": {}
  },
  {
   "cell_type": "code",
   "execution_count": null,
   "source": [
    "loader = torch.utils.data.DataLoader(d, batch_size=4)"
   ],
   "outputs": [],
   "metadata": {}
  },
  {
   "cell_type": "code",
   "execution_count": null,
   "source": [
    "one_batch = next(iter(loader))"
   ],
   "outputs": [],
   "metadata": {}
  },
  {
   "cell_type": "code",
   "execution_count": null,
   "source": [
    "one_batch['monthday']"
   ],
   "outputs": [],
   "metadata": {}
  },
  {
   "cell_type": "code",
   "execution_count": null,
   "source": [
    "one_batch['month']"
   ],
   "outputs": [],
   "metadata": {}
  },
  {
   "cell_type": "code",
   "execution_count": null,
   "source": [
    "t2m_mu = one_batch['model_parameters_t2m_mu']\n",
    "t2m_sigma = one_batch['model_parameters_t2m_sigma']"
   ],
   "outputs": [],
   "metadata": {}
  },
  {
   "cell_type": "code",
   "execution_count": null,
   "source": [
    "class MultiplexedNormalEMOSModel(nn.Module):\n",
    "    def __init__(self, loc_key, scale_key, linear_model_cls, key, biweekly=False, regularization=1e-9):\n",
    "        super().__init__()\n",
    "\n",
    "        self.loc_key = loc_key\n",
    "        self.scale_key = scale_key\n",
    "        \n",
    "        shape = (2, 121, 240) if biweekly else (121, 240)\n",
    "\n",
    "        self.loc_model = linear_model_cls(*shape)\n",
    "        self.scale_model = linear_model_cls(*shape, fill_intercept=1.0)\n",
    "\n",
    "        self.regularization = regularization\n",
    "        \n",
    "        self.key = key\n",
    "\n",
    "    def forward(self, batch):\n",
    "        forecast_loc, forecast_scale = batch[self.loc_key], batch[self.scale_key]\n",
    "        key = batch[self.key]\n",
    "        \n",
    "        loc = self.loc_model(key, forecast_loc)\n",
    "\n",
    "        scale = self.scale_model(key, forecast_scale)\n",
    "        scale = torch.clip(forecast_scale, min=self.regularization)\n",
    "\n",
    "        return torch.distributions.Normal(loc=loc, scale=scale)"
   ],
   "outputs": [],
   "metadata": {}
  },
  {
   "cell_type": "code",
   "execution_count": null,
   "source": [
    "class MonthlyNormalEMOSModel(MultiplexedNormalEMOSModel):\n",
    "    def __init__(self, loc_key, scale_key, biweekly=False, regularization=1e-9):\n",
    "        super().__init__(loc_key, scale_key, MonthlyLinearModel, 'month',  biweekly=biweekly, regularization=regularization)"
   ],
   "outputs": [],
   "metadata": {}
  },
  {
   "cell_type": "code",
   "execution_count": null,
   "source": [
    "class WeeklyNormalEMOSModel(MultiplexedNormalEMOSModel):\n",
    "    def __init__(self, loc_key, scale_key, biweekly=False, regularization=1e-9):\n",
    "        super().__init__(loc_key, scale_key, WeeklyLinearModel, 'monthday', biweekly=biweekly, regularization=regularization)"
   ],
   "outputs": [],
   "metadata": {}
  },
  {
   "cell_type": "code",
   "execution_count": null,
   "source": [],
   "outputs": [],
   "metadata": {}
  },
  {
   "cell_type": "code",
   "execution_count": null,
   "source": [
    "emos = NormalCubeNormalEMOS(biweekly=True)"
   ],
   "outputs": [],
   "metadata": {}
  },
  {
   "cell_type": "code",
   "execution_count": null,
   "source": [
    "list(emos.named_parameters())"
   ],
   "outputs": [],
   "metadata": {}
  },
  {
   "cell_type": "code",
   "execution_count": null,
   "source": [
    "emos(one_batch)"
   ],
   "outputs": [],
   "metadata": {}
  },
  {
   "cell_type": "code",
   "execution_count": null,
   "source": [
    "class MonthlyMultiplexer(PytorchMultiplexer):\n",
    "    def __init__(self, cls, *args, **kwargs):\n",
    "        monthly_models = {\n",
    "            f\"{month:02}\": cls(*args, **kwargs) for month in range(1, 13)\n",
    "        }\n",
    "        \n",
    "        super().__init__('month', monthly_models)"
   ],
   "outputs": [],
   "metadata": {}
  },
  {
   "cell_type": "code",
   "execution_count": null,
   "source": [
    "class WeeklyMultiplexer(PytorchMultiplexer):\n",
    "    def __init__(self, cls, *args, **kwargs):\n",
    "        monthdays = [f\"{m:02}{d:02}\" for m, d in ECMWF_FORECASTS]\n",
    "        weekly_models = {monthday: cls(*args, **kwargs) for monthday in monthdays}\n",
    "        \n",
    "        super().__init__('monthday', weekly_models)"
   ],
   "outputs": [],
   "metadata": {}
  },
  {
   "cell_type": "code",
   "execution_count": null,
   "source": [
    "class MonthlyLinearModel(MonthlyMultiplexer):\n",
    "    def __init__(self, *args, **kwargs):\n",
    "        super().__init__(LinearModel, *args, **kwargs)"
   ],
   "outputs": [],
   "metadata": {}
  },
  {
   "cell_type": "code",
   "execution_count": null,
   "source": [
    "class WeeklyLinearModel(WeeklyMultiplexer):\n",
    "    def __init__(self, *args, **kwargs):\n",
    "        super().__init__(LinearModel, *args, **kwargs)"
   ],
   "outputs": [],
   "metadata": {}
  },
  {
   "cell_type": "code",
   "execution_count": null,
   "source": [
    "m = MonthlyLinearModel()"
   ],
   "outputs": [],
   "metadata": {}
  },
  {
   "cell_type": "code",
   "execution_count": null,
   "source": [
    "m(one_batch['month'], t2m_mu).shape"
   ],
   "outputs": [],
   "metadata": {}
  },
  {
   "cell_type": "code",
   "execution_count": null,
   "source": [],
   "outputs": [],
   "metadata": {}
  }
 ],
 "metadata": {
  "kernelspec": {
   "display_name": "Python 3.8.10 64-bit ('s2s': conda)",
   "language": "python",
   "name": "python3810jvsc74a57bd04e02d3ae6a41de67eefc33888370baa60c5c7079ebc54125ad6266af87bcea0a"
  },
  "language_info": {
   "codemirror_mode": {
    "name": "ipython",
    "version": 3
   },
   "file_extension": ".py",
   "mimetype": "text/x-python",
   "name": "python",
   "nbconvert_exporter": "python",
   "pygments_lexer": "ipython3",
   "version": "3.8.10"
  }
 },
 "nbformat": 4,
 "nbformat_minor": 4
}