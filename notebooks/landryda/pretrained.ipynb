{
 "cells": [
  {
   "cell_type": "code",
   "execution_count": null,
   "metadata": {},
   "outputs": [],
   "source": [
    "%load_ext autoreload\n",
    "%autoreload 2"
   ]
  },
  {
   "cell_type": "code",
   "execution_count": null,
   "metadata": {},
   "outputs": [],
   "source": [
    "import hydra\n",
    "import matplotlib.pyplot as plt\n",
    "import timm\n",
    "import torch\n",
    "import torch.nn as nn\n",
    "import xarray as xr"
   ]
  },
  {
   "cell_type": "code",
   "execution_count": null,
   "metadata": {},
   "outputs": [],
   "source": [
    "from crims2s.dataset import S2SDataset, TransformedDataset\n",
    "from crims2s.training.model.bayes import Projection\n",
    "from crims2s.util import ECMWF_FORECASTS, collate_with_xarray"
   ]
  },
  {
   "cell_type": "code",
   "execution_count": null,
   "metadata": {},
   "outputs": [],
   "source": [
    "with hydra.initialize_config_module('crims2s.training.conf'):\n",
    "    cfg = hydra.compose('config', overrides=['experiment=conv_fcn'])"
   ]
  },
  {
   "cell_type": "code",
   "execution_count": null,
   "metadata": {},
   "outputs": [],
   "source": [
    "t = hydra.utils.instantiate(cfg.experiment.transform)\n",
    "d = TransformedDataset(S2SDataset(cfg.experiment.dataset.dataset_dir), t)"
   ]
  },
  {
   "cell_type": "code",
   "execution_count": null,
   "metadata": {},
   "outputs": [],
   "source": [
    "loader = torch.utils.data.DataLoader(d, batch_size=4, collate_fn=collate_with_xarray)"
   ]
  },
  {
   "cell_type": "code",
   "execution_count": null,
   "metadata": {},
   "outputs": [],
   "source": [
    "b = next(iter(loader))"
   ]
  },
  {
   "cell_type": "code",
   "execution_count": null,
   "metadata": {},
   "outputs": [],
   "source": [
    "pretrained_model = torch.hub.load('pytorch/vision:v0.10.0', 'fcn_resnet50', pretrained=True)\n",
    "pretrained_model.classifier[4] = nn.Conv2d(512, 8, kernel_size=3, stride=1)"
   ]
  },
  {
   "cell_type": "code",
   "execution_count": null,
   "metadata": {},
   "outputs": [],
   "source": [
    "class PretrainedModelWrapper(nn.Module):\n",
    "    def __init__(self, pretrained_model, in_features):\n",
    "        super().__init__()\n",
    "        \n",
    "        self.projection = Projection(in_features, 3, moments=False, flatten_time=True)\n",
    "        self.pretrained = pretrained_model\n",
    "        \n",
    "    def forward(self, batch):\n",
    "        x = batch['features_features']\n",
    "        x = torch.transpose(x, -1, 1)  # Swap channels and time dim.\n",
    "        \n",
    "        print('before projection', x.shape)\n",
    "        \n",
    "        x = self.projection(x)\n",
    "        x = x.mean(-1)  # Remove time dimension (which was flattened by the projection).\n",
    "        \n",
    "        print('after projection', x.shape)\n",
    "        \n",
    "        x = self.pretrained.forward(x)['out']\n",
    "        \n",
    "        print('after pretrained', x.shape)\n",
    "        \n",
    "        batch_size = x.shape[0]\n",
    "        \n",
    "        x_t2m = x[:, :4]\n",
    "        x_tp = x[:, 4:]\n",
    "        \n",
    "        x_t2m = x_t2m.reshape(batch_size, 2, 121, 240, 2)\n",
    "        x_tp = x_tp.reshape(batch_size, 2, 121, 240, 2)\n",
    "        \n",
    "        print('x_t2m', x_t2m.shape)\n",
    "                \n",
    "        return x_t2m, x_tp\n",
    "        "
   ]
  },
  {
   "cell_type": "code",
   "execution_count": null,
   "metadata": {},
   "outputs": [],
   "source": [
    "m = PretrainedModelWrapper(pretrained_model, 17)"
   ]
  },
  {
   "cell_type": "code",
   "execution_count": null,
   "metadata": {},
   "outputs": [],
   "source": [
    "m = hydra.utils.instantiate(cfg.experiment.model)"
   ]
  },
  {
   "cell_type": "code",
   "execution_count": null,
   "metadata": {},
   "outputs": [],
   "source": [
    "t2m, tp = m(b)"
   ]
  },
  {
   "cell_type": "code",
   "execution_count": null,
   "metadata": {},
   "outputs": [],
   "source": [
    "t2m.shape"
   ]
  },
  {
   "cell_type": "code",
   "execution_count": null,
   "metadata": {},
   "outputs": [],
   "source": [
    "plt.imshow(t2m[0,0,0].detach().numpy())"
   ]
  },
  {
   "cell_type": "code",
   "execution_count": null,
   "metadata": {},
   "outputs": [],
   "source": [
    "for k, v in m.named_parameters():\n",
    "    print(k)"
   ]
  },
  {
   "cell_type": "code",
   "execution_count": null,
   "metadata": {},
   "outputs": [],
   "source": []
  }
 ],
 "metadata": {
  "kernelspec": {
   "display_name": "S2S Challenge",
   "language": "python",
   "name": "s2s"
  },
  "language_info": {
   "codemirror_mode": {
    "name": "ipython",
    "version": 3
   },
   "file_extension": ".py",
   "mimetype": "text/x-python",
   "name": "python",
   "nbconvert_exporter": "python",
   "pygments_lexer": "ipython3",
   "version": "3.8.12"
  }
 },
 "nbformat": 4,
 "nbformat_minor": 4
}
