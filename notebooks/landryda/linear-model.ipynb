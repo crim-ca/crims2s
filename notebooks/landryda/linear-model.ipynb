{
 "cells": [
  {
   "cell_type": "code",
   "execution_count": null,
   "metadata": {},
   "outputs": [],
   "source": [
    "%load_ext autoreload\n",
    "%autoreload 2"
   ]
  },
  {
   "cell_type": "markdown",
   "metadata": {},
   "source": [
    "# Linear Model\n",
    "\n",
    "Train a linear model for a single dayofyear using one of the ml datasets we made."
   ]
  },
  {
   "cell_type": "code",
   "execution_count": null,
   "metadata": {},
   "outputs": [],
   "source": [
    "import dask.distributed\n",
    "import logging\n",
    "import matplotlib.pyplot as plt\n",
    "import pathlib\n",
    "import torch\n",
    "import torch.nn as nn\n",
    "import xarray as xr"
   ]
  },
  {
   "cell_type": "code",
   "execution_count": null,
   "metadata": {},
   "outputs": [],
   "source": [
    "from crims2s.util import add_biweekly_dim"
   ]
  },
  {
   "cell_type": "code",
   "execution_count": null,
   "metadata": {},
   "outputs": [],
   "source": [
    "ML_DATASET = '***BASEDIR***/mlready/2021-08-07-test'"
   ]
  },
  {
   "cell_type": "code",
   "execution_count": null,
   "metadata": {},
   "outputs": [],
   "source": [
    "ml_dataset_path = pathlib.Path(ML_DATASET)\n",
    "ml_files = [x for x in ml_dataset_path.iterdir() if x.name.endswith('0102.nc')]"
   ]
  },
  {
   "cell_type": "code",
   "execution_count": null,
   "metadata": {},
   "outputs": [],
   "source": [
    "ml_files"
   ]
  },
  {
   "cell_type": "code",
   "execution_count": null,
   "metadata": {},
   "outputs": [],
   "source": [
    "def apply_to_all(transform, example):\n",
    "    \"\"\"Utility function to apply a transform on all the kews of an example.\"\"\"\n",
    "    new_example = {}\n",
    "    for k in example:\n",
    "        new_example[k] = transform(example[k])\n",
    "    \n",
    "    return new_example"
   ]
  },
  {
   "cell_type": "code",
   "execution_count": null,
   "metadata": {},
   "outputs": [],
   "source": [
    "def add_biweekly_dim_transform(example):\n",
    "    return apply_to_all(add_biweekly_dim, example)"
   ]
  },
  {
   "cell_type": "code",
   "execution_count": null,
   "metadata": {},
   "outputs": [],
   "source": [
    "def rename_to_lead_time(dataset):\n",
    "    return dataset.rename_dims({'biweekly_forecast': 'lead_time'}).assign_coords(lead_time=dataset.biweekly_forecast.data)"
   ]
  },
  {
   "cell_type": "code",
   "execution_count": null,
   "metadata": {},
   "outputs": [],
   "source": [
    "def aggregate_weekly(example):\n",
    "    obs = example['obs']\n",
    "    new_obs = aggregate_obs_weekly(obs)\n",
    "    \n",
    "    model = example['model']\n",
    "    new_model = aggregate_model_weekly(model)\n",
    "        \n",
    "    new_features = example['features'].mean(dim='lead_time')\n",
    "    \n",
    "    example['features'] = new_features\n",
    "    example['model'] = new_model\n",
    "    example['obs'] = new_obs\n",
    "    \n",
    "    return example"
   ]
  },
  {
   "cell_type": "code",
   "execution_count": null,
   "metadata": {},
   "outputs": [],
   "source": [
    "def aggregate_model_weekly(model):\n",
    "    aggregate_model_tp = model.tp.isel(lead_time=-1)\n",
    "    aggregate_model_t2m = model.t2m.mean(dim='lead_time', skipna=True)\n",
    "    \n",
    "    return xr.merge([aggregate_model_tp, aggregate_model_t2m])"
   ]
  },
  {
   "cell_type": "code",
   "execution_count": null,
   "metadata": {},
   "outputs": [],
   "source": [
    "def aggregate_obs_weekly(obs):\n",
    "    aggregate_obs_tp = obs.pr.sum(dim='lead_time', skipna=False).rename('tp')\n",
    "    aggregate_obs_t2m = obs.t2m.mean(dim='lead_time')\n",
    "    return xr.merge([aggregate_obs_tp, aggregate_obs_t2m])"
   ]
  },
  {
   "cell_type": "code",
   "execution_count": null,
   "metadata": {},
   "outputs": [],
   "source": [
    "def s2s_to_pytorch(example):\n",
    "    obs = example['obs']\n",
    "    model = example['model']\n",
    "    features = example['features']\n",
    "    \n",
    "    return {\n",
    "        'obs_t2m': torch.from_numpy(obs.t2m.data),\n",
    "        'obs_tp': torch.from_numpy(obs.tp.data),\n",
    "        'features': torch.from_numpy(features.x.data),\n",
    "        'model_t2m': torch.from_numpy(model.t2m.data),\n",
    "        'model_tp': torch.from_numpy(model.tp.data),\n",
    "    }"
   ]
  },
  {
   "cell_type": "code",
   "execution_count": null,
   "metadata": {},
   "outputs": [],
   "source": [
    "class CompositeTransform:\n",
    "    def __init__(self, transforms):\n",
    "        self.transforms = transforms\n",
    "        \n",
    "    def __call__(self, example):\n",
    "        transformed_example = example\n",
    "        for t in self.transforms:\n",
    "            transformed_example = t(transformed_example)\n",
    "            \n",
    "        return transformed_example"
   ]
  },
  {
   "cell_type": "code",
   "execution_count": null,
   "metadata": {},
   "outputs": [],
   "source": [
    "class TransformedDataset(torch.utils.data.Dataset):\n",
    "    def __init__(self, dataset, transform):\n",
    "        self.dataset = dataset\n",
    "        self.transform = transform\n",
    "        \n",
    "    def __len__(self):\n",
    "        return len(self.dataset)\n",
    "    \n",
    "    def __getitem__(self, idx):\n",
    "        return self.transform(self.dataset[idx])"
   ]
  },
  {
   "cell_type": "code",
   "execution_count": null,
   "metadata": {},
   "outputs": [],
   "source": [
    "class S2SDataset(torch.utils.data.Dataset):\n",
    "    def __init__(self, dataset_dir, filter_str=None):\n",
    "        dataset_path = pathlib.Path(dataset_dir)\n",
    "        self.files = [x for x in dataset_path.iterdir() if filter_str is None or filter_str in x.name]\n",
    "        \n",
    "    def __len__(self):\n",
    "        return len(self.files)\n",
    "    \n",
    "    def __getitem__(self, idx):\n",
    "        f = self.files[idx]\n",
    "        features = xr.open_dataset(f, group='/x')\n",
    "        obs = xr.open_dataset(f, group='/obs')\n",
    "        model = xr.open_dataset(f, group='/model')\n",
    "        target = xr.open_dataset(f, group='/y')\n",
    "        \n",
    "        return {'features': features, 'obs': obs, 'model': model, 'target': target}"
   ]
  },
  {
   "cell_type": "code",
   "execution_count": null,
   "metadata": {},
   "outputs": [],
   "source": [
    "dataset = S2SDataset(ML_DATASET, filter_str='0102.nc')"
   ]
  },
  {
   "cell_type": "code",
   "execution_count": null,
   "metadata": {},
   "outputs": [],
   "source": [
    "dataset_model = dataset[0]['model']"
   ]
  },
  {
   "cell_type": "code",
   "execution_count": null,
   "metadata": {},
   "outputs": [],
   "source": [
    "dataset_model"
   ]
  },
  {
   "cell_type": "code",
   "execution_count": null,
   "metadata": {},
   "outputs": [],
   "source": [
    "transformed = add_biweekly_dim_transform(dataset[0])"
   ]
  },
  {
   "cell_type": "code",
   "execution_count": null,
   "metadata": {},
   "outputs": [],
   "source": [
    "transformed['model']"
   ]
  },
  {
   "cell_type": "code",
   "execution_count": null,
   "metadata": {},
   "outputs": [],
   "source": [
    "biweekly_model = transformed['model']"
   ]
  },
  {
   "cell_type": "code",
   "execution_count": null,
   "metadata": {},
   "outputs": [],
   "source": [
    "biweekly_model.isel(realization=0, biweekly_forecast=2, lead_time=-1).tp.plot()"
   ]
  },
  {
   "cell_type": "code",
   "execution_count": null,
   "metadata": {},
   "outputs": [],
   "source": [
    "transformed = aggregate_weekly(add_biweekly_dim_transform(dataset[0]))"
   ]
  },
  {
   "cell_type": "code",
   "execution_count": null,
   "metadata": {},
   "outputs": [],
   "source": [
    "transformed['model'].isel(lead_time=2, realization=10).tp.plot()"
   ]
  },
  {
   "cell_type": "code",
   "execution_count": null,
   "metadata": {},
   "outputs": [],
   "source": [
    "transformed['obs'].tp.isel(lead_time=2).plot()"
   ]
  },
  {
   "cell_type": "code",
   "execution_count": null,
   "metadata": {
    "jupyter": {
     "outputs_hidden": true
    },
    "tags": []
   },
   "outputs": [],
   "source": [
    "s2s_to_pytorch(transformed)"
   ]
  },
  {
   "cell_type": "code",
   "execution_count": null,
   "metadata": {},
   "outputs": [],
   "source": [
    "#transform = CompositeTransform([add_biweekly_dim_transform, aggregate_weekly, s2s_to_pytorch])\n",
    "#dataset = TransformedDataset(S2SDataset(ML_DATASET, filter_str='0102.nc'), transform)"
   ]
  },
  {
   "cell_type": "code",
   "execution_count": null,
   "metadata": {
    "tags": []
   },
   "outputs": [],
   "source": [
    "dataset[0]['obs_tp'].shape"
   ]
  },
  {
   "cell_type": "code",
   "execution_count": null,
   "metadata": {},
   "outputs": [],
   "source": [
    "example['features'].shape"
   ]
  },
  {
   "cell_type": "code",
   "execution_count": null,
   "metadata": {},
   "outputs": [],
   "source": [
    "example['obs_t2m'].shape"
   ]
  },
  {
   "cell_type": "code",
   "execution_count": null,
   "metadata": {},
   "outputs": [],
   "source": [
    "class LinearModel(torch.nn.Module):\n",
    "    def __init__(self):\n",
    "        super().__init__()\n",
    "        t2m_mu_weights = nn.Parameter(torch.rand(2, 121, 240, 11, 13))\n",
    "        t2m_mu_bias = nn.Parameter(torch.rand(2, 121, 240))\n",
    "        \n",
    "        t2m_sigma_weights = nn.Parameter(torch.rand(2, 121, 240, 11, 13))\n",
    "        t2m_sigma_bias = nn.Parameter(torch.rand(2, 121, 240))\n",
    "\n",
    "        \n",
    "    def forward(self, example):\n",
    "        "
   ]
  },
  {
   "cell_type": "code",
   "execution_count": null,
   "metadata": {},
   "outputs": [],
   "source": [
    "t2m_weights = torch.rand(2, 121, 240, 11, 13, requires_grad=True)"
   ]
  },
  {
   "cell_type": "code",
   "execution_count": null,
   "metadata": {},
   "outputs": [],
   "source": [
    "t2m_correction = torch.einsum('wijmv,wijmv->wij', example['features'], weights)"
   ]
  },
  {
   "cell_type": "code",
   "execution_count": null,
   "metadata": {},
   "outputs": [],
   "source": [
    "t2m_bias = torch.rand(2, 121, 240, requires_grad=True)"
   ]
  },
  {
   "cell_type": "code",
   "execution_count": null,
   "metadata": {},
   "outputs": [],
   "source": [
    "example['model_t2m'].shape"
   ]
  },
  {
   "cell_type": "code",
   "execution_count": null,
   "metadata": {},
   "outputs": [],
   "source": [
    "pred = example['model_t2m'] + t2m_correction + t2m_bias "
   ]
  },
  {
   "cell_type": "code",
   "execution_count": null,
   "metadata": {},
   "outputs": [],
   "source": [
    "pred"
   ]
  },
  {
   "cell_type": "code",
   "execution_count": null,
   "metadata": {},
   "outputs": [],
   "source": [
    "plt.imshow(pred.detach().numpy()[1])"
   ]
  },
  {
   "cell_type": "code",
   "execution_count": null,
   "metadata": {},
   "outputs": [],
   "source": [
    "plt.imshow(example['obs_t2m'][0])"
   ]
  },
  {
   "cell_type": "code",
   "execution_count": null,
   "metadata": {},
   "outputs": [],
   "source": [
    "opened = dataset[0]"
   ]
  },
  {
   "cell_type": "code",
   "execution_count": null,
   "metadata": {},
   "outputs": [],
   "source": [
    "biweekly = add_biweekly_dim_transform(opened)"
   ]
  },
  {
   "cell_type": "code",
   "execution_count": null,
   "metadata": {},
   "outputs": [],
   "source": [
    "aggregated = aggregate_weekly(biweekly)"
   ]
  },
  {
   "cell_type": "code",
   "execution_count": null,
   "metadata": {},
   "outputs": [],
   "source": [
    "opened['obs'].isel(lead_time=10).pr.plot()"
   ]
  },
  {
   "cell_type": "code",
   "execution_count": null,
   "metadata": {},
   "outputs": [],
   "source": [
    "opened['obs'].isel(lead_time=10).t2m.plot()"
   ]
  },
  {
   "cell_type": "code",
   "execution_count": null,
   "metadata": {},
   "outputs": [],
   "source": [
    "biweekly['obs']"
   ]
  },
  {
   "cell_type": "code",
   "execution_count": null,
   "metadata": {},
   "outputs": [],
   "source": [
    "biweekly['obs'].isel(biweekly_forecast=0, lead_time=3).pr.plot()"
   ]
  },
  {
   "cell_type": "code",
   "execution_count": null,
   "metadata": {},
   "outputs": [],
   "source": [
    "biweekly['obs']"
   ]
  },
  {
   "cell_type": "code",
   "execution_count": null,
   "metadata": {},
   "outputs": [],
   "source": [
    "biweekly['obs'].isel(biweekly_forecast=0, lead_time=0).t2m.plot()"
   ]
  },
  {
   "cell_type": "code",
   "execution_count": null,
   "metadata": {},
   "outputs": [],
   "source": [
    "aggregated['obs'].isel(lead_time=2).tp.plot()"
   ]
  },
  {
   "cell_type": "code",
   "execution_count": null,
   "metadata": {},
   "outputs": [],
   "source": [
    "aggregated['obs'].isel(lead_time=2).t2m.plot()"
   ]
  },
  {
   "cell_type": "code",
   "execution_count": null,
   "metadata": {},
   "outputs": [],
   "source": [
    "aggregated['obs']"
   ]
  },
  {
   "cell_type": "code",
   "execution_count": null,
   "metadata": {},
   "outputs": [],
   "source": [
    "aggregated['features']"
   ]
  },
  {
   "cell_type": "code",
   "execution_count": null,
   "metadata": {},
   "outputs": [],
   "source": [
    "aggregated['model']"
   ]
  },
  {
   "cell_type": "code",
   "execution_count": null,
   "metadata": {},
   "outputs": [],
   "source": [
    "aggregated.keys()"
   ]
  },
  {
   "cell_type": "markdown",
   "metadata": {},
   "source": [
    "## Check if t2m fits with date in raw obs"
   ]
  },
  {
   "cell_type": "code",
   "execution_count": null,
   "metadata": {},
   "outputs": [],
   "source": [
    "opened_obs = opened['obs']"
   ]
  },
  {
   "cell_type": "code",
   "execution_count": null,
   "metadata": {},
   "outputs": [],
   "source": [
    "raw_obs = xr.open_dataset('***BASEDIR***/obs-arlan-processed-2021-08-07/t2m.nc')"
   ]
  },
  {
   "cell_type": "code",
   "execution_count": null,
   "metadata": {},
   "outputs": [],
   "source": [
    "opened_obs"
   ]
  },
  {
   "cell_type": "code",
   "execution_count": null,
   "metadata": {},
   "outputs": [],
   "source": [
    "slice_opened_obs = opened_obs.swap_dims(lead_time='valid_time').sel(valid_time='2000-02-03')"
   ]
  },
  {
   "cell_type": "code",
   "execution_count": null,
   "metadata": {},
   "outputs": [],
   "source": [
    "slice_raw_obs = raw_obs.sel(time='2000-02-03')"
   ]
  },
  {
   "cell_type": "code",
   "execution_count": null,
   "metadata": {},
   "outputs": [],
   "source": [
    "(slice_opened_obs.t2m - slice_raw_obs.t2m).plot()"
   ]
  },
  {
   "cell_type": "code",
   "execution_count": null,
   "metadata": {},
   "outputs": [],
   "source": []
  }
 ],
 "metadata": {
  "kernelspec": {
   "display_name": "S2S Challenge",
   "language": "python",
   "name": "s2s"
  },
  "language_info": {
   "codemirror_mode": {
    "name": "ipython",
    "version": 3
   },
   "file_extension": ".py",
   "mimetype": "text/x-python",
   "name": "python",
   "nbconvert_exporter": "python",
   "pygments_lexer": "ipython3",
   "version": "3.8.10"
  }
 },
 "nbformat": 4,
 "nbformat_minor": 4
}
