{
 "cells": [
  {
   "cell_type": "code",
   "execution_count": null,
   "source": [
    "%load_ext autoreload\n",
    "%autoreload 2"
   ],
   "outputs": [],
   "metadata": {}
  },
  {
   "cell_type": "code",
   "execution_count": null,
   "source": [
    "import xarray as xr"
   ],
   "outputs": [],
   "metadata": {}
  },
  {
   "cell_type": "code",
   "execution_count": null,
   "source": [
    "from crims2s.dataset import S2SDataset, TransformedDataset\n",
    "from crims2s.transform import normalize_dataset"
   ],
   "outputs": [],
   "metadata": {}
  },
  {
   "cell_type": "code",
   "execution_count": null,
   "source": [
    "ECMWF_LSM = \"***BASEDIR***/training-input/ecmwf-hindcast-lsm-20200102.nc\""
   ],
   "outputs": [],
   "metadata": {}
  },
  {
   "cell_type": "code",
   "execution_count": null,
   "source": [
    "GEOGRAPHY_FILE = \"***BASEDIR***/from-s2s/ecmwf-orog.nc\""
   ],
   "outputs": [],
   "metadata": {}
  },
  {
   "cell_type": "code",
   "execution_count": null,
   "source": [
    "DATASET_DIR = \"***BASEDIR***/mlready/2021-09-14-lean/\""
   ],
   "outputs": [],
   "metadata": {}
  },
  {
   "cell_type": "code",
   "execution_count": null,
   "source": [
    "lsm = xr.open_dataset(ECMWF_LSM)"
   ],
   "outputs": [],
   "metadata": {}
  },
  {
   "cell_type": "code",
   "execution_count": null,
   "source": [
    "lsm"
   ],
   "outputs": [],
   "metadata": {}
  },
  {
   "cell_type": "code",
   "execution_count": null,
   "source": [
    "def fix_s2s_dataset_dims(s2s_dataset):\n",
    "    \"\"\"Fix the dims of a file coming directly from the S2S data repository.\"\"\"\n",
    "    return s2s_dataset.rename(X='longitude', Y='latitude', L='lead_time')"
   ],
   "outputs": [],
   "metadata": {}
  },
  {
   "cell_type": "code",
   "execution_count": null,
   "source": [
    "geo = fix_s2s_dataset_dims(xr.open_dataset(GEOGRAPHY_FILE))"
   ],
   "outputs": [],
   "metadata": {}
  },
  {
   "cell_type": "code",
   "execution_count": null,
   "source": [
    "geo"
   ],
   "outputs": [],
   "metadata": {}
  },
  {
   "cell_type": "code",
   "execution_count": null,
   "source": [
    "(geo.isel(lead_time=slice(1, None)) - geo.isel(lead_time=slice(0, -2))).sum(dim=['longitude', 'latitude']).orog.plot()"
   ],
   "outputs": [],
   "metadata": {}
  },
  {
   "cell_type": "code",
   "execution_count": null,
   "source": [
    "lsm.longitude == geo.longitude"
   ],
   "outputs": [],
   "metadata": {}
  },
  {
   "cell_type": "code",
   "execution_count": null,
   "source": [
    "geo.isel(lead_time=0).orog.plot()"
   ],
   "outputs": [],
   "metadata": {}
  },
  {
   "cell_type": "code",
   "execution_count": null,
   "source": [
    "geo.isel(lead_time=0).slt.plot()"
   ],
   "outputs": [],
   "metadata": {}
  },
  {
   "cell_type": "code",
   "execution_count": null,
   "source": [
    "geo.mean()"
   ],
   "outputs": [],
   "metadata": {}
  },
  {
   "cell_type": "code",
   "execution_count": null,
   "source": [
    "geo.std()"
   ],
   "outputs": [],
   "metadata": {}
  },
  {
   "cell_type": "code",
   "execution_count": null,
   "source": [
    "new_feature_dataset = normalize_dataset(geo[['orog']]).isel(lead_time=0).to_array().to_dataset(name=\"features\")"
   ],
   "outputs": [],
   "metadata": {}
  },
  {
   "cell_type": "code",
   "execution_count": null,
   "source": [
    "new_feature_dataset"
   ],
   "outputs": [],
   "metadata": {}
  },
  {
   "cell_type": "code",
   "execution_count": null,
   "source": [
    "class AddGeographyFeatures:\n",
    "    def __init__(self, geography_file):\n",
    "        geo_dataset = fix_s2s_dataset_dims(xr.open_dataset(geography_file))\n",
    "        subset = geo_dataset[['orog']]\n",
    "        \n",
    "        geo = normalize_dataset(subset)\n",
    "        self.geo_features = geo.to_array().to_dataset(name=\"features\")\n",
    "        \n",
    "    def __call__(self, batch):\n",
    "        features = batch['features']        \n",
    "        new_features_dataset = xr.concat([features, self.geo_features], dim='variable')\n",
    "        \n",
    "        batch['features'] = new_features_dataset\n",
    "        \n",
    "        return batch"
   ],
   "outputs": [],
   "metadata": {}
  },
  {
   "cell_type": "code",
   "execution_count": null,
   "source": [
    "t = AddGeographyFeatures(GEOGRAPHY_FILE)"
   ],
   "outputs": [],
   "metadata": {}
  },
  {
   "cell_type": "code",
   "execution_count": null,
   "source": [
    "d = TransformedDataset(S2SDataset(DATASET_DIR), t)"
   ],
   "outputs": [],
   "metadata": {}
  },
  {
   "cell_type": "code",
   "execution_count": null,
   "source": [
    "d[0]['features'].features.sel(variable='orog').plot()"
   ],
   "outputs": [],
   "metadata": {}
  },
  {
   "cell_type": "code",
   "execution_count": null,
   "source": [
    "feature_dataset = d[0]['features']"
   ],
   "outputs": [],
   "metadata": {}
  },
  {
   "cell_type": "code",
   "execution_count": null,
   "source": [
    "merged_features = xr.concat([feature_dataset, new_feature_dataset], dim='variable')"
   ],
   "outputs": [],
   "metadata": {}
  },
  {
   "cell_type": "code",
   "execution_count": null,
   "source": [
    "merged_features"
   ],
   "outputs": [],
   "metadata": {}
  },
  {
   "cell_type": "code",
   "execution_count": null,
   "source": [
    "merged_features.features.sel(variable='orog').isel(lead_time=0).plot()"
   ],
   "outputs": [],
   "metadata": {}
  },
  {
   "cell_type": "code",
   "execution_count": null,
   "source": [],
   "outputs": [],
   "metadata": {}
  }
 ],
 "metadata": {
  "kernelspec": {
   "display_name": "S2S Challenge",
   "language": "python",
   "name": "s2s"
  },
  "language_info": {
   "codemirror_mode": {
    "name": "ipython",
    "version": 3
   },
   "file_extension": ".py",
   "mimetype": "text/x-python",
   "name": "python",
   "nbconvert_exporter": "python",
   "pygments_lexer": "ipython3",
   "version": "3.8.12"
  }
 },
 "nbformat": 4,
 "nbformat_minor": 4
}