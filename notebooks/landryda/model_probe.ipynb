{
 "cells": [
  {
   "cell_type": "code",
   "execution_count": 1,
   "metadata": {},
   "outputs": [],
   "source": [
    "%load_ext autoreload\n",
    "%autoreload 2"
   ]
  },
  {
   "cell_type": "code",
   "execution_count": 3,
   "metadata": {},
   "outputs": [],
   "source": [
    "import hydra\n",
    "import numpy as np\n",
    "import pathlib\n",
    "import torch\n",
    "import xarray as xr\n",
    "\n",
    "from crims2s.training.util import find_checkpoint_file\n",
    "from crims2s.training.lightning import S2STercilesModule"
   ]
  },
  {
   "cell_type": "code",
   "execution_count": null,
   "metadata": {},
   "outputs": [],
   "source": [
    "with hydra.initialize_config_module('crims2s.training.conf'):\n",
    "    cfg = hydra.compose('config', overrides=['experiment=emos', 'experiment/model=emos_ecmwf_rolling'])"
   ]
  },
  {
   "cell_type": "code",
   "execution_count": null,
   "metadata": {},
   "outputs": [],
   "source": [
    "dataset_path = pathlib.Path(cfg.experiment.dataset.dataset_dir)\n",
    "sample_path = next(iter(dataset_path.glob('*.nc')))"
   ]
  },
  {
   "cell_type": "code",
   "execution_count": null,
   "metadata": {},
   "outputs": [],
   "source": [
    "sample_path"
   ]
  },
  {
   "cell_type": "code",
   "execution_count": null,
   "metadata": {},
   "outputs": [],
   "source": [
    "sample = xr.open_dataset(sample_path, group='/edges')"
   ]
  },
  {
   "cell_type": "code",
   "execution_count": null,
   "metadata": {},
   "outputs": [],
   "source": [
    "sample"
   ]
  },
  {
   "cell_type": "code",
   "execution_count": 6,
   "metadata": {},
   "outputs": [
    {
     "data": {
      "text/plain": [
       "PosixPath('***BASEDIR***/runs/train/outputs/2021-09-28/12-38-58/lightning/default_8/0_b0d8fe0320d4436b8ea0c3b63b0e285c/checkpoints/epoch=46-step=2396.ckpt')"
      ]
     },
     "execution_count": 6,
     "metadata": {},
     "output_type": "execute_result"
    }
   ],
   "source": [
    "find_checkpoint_file('***BASEDIR***/runs/train/outputs/2021-09-28/12-38-58')"
   ]
  },
  {
   "cell_type": "code",
   "execution_count": null,
   "metadata": {},
   "outputs": [],
   "source": [
    "checkpoint_path = find_checkpoint_file(\n",
    "    hydra.utils.to_absolute_path('***BASEDIR***/runs/train/outputs/2021-09-28/11-36-48')\n",
    ")\n",
    "\n",
    "checkpoint_path"
   ]
  },
  {
   "cell_type": "code",
   "execution_count": null,
   "metadata": {},
   "outputs": [],
   "source": [
    "chkpt = torch.load(checkpoint_path, map_location=torch.device('cpu'))"
   ]
  },
  {
   "cell_type": "code",
   "execution_count": null,
   "metadata": {},
   "outputs": [],
   "source": [
    "state_dict = chkpt['state_dict']"
   ]
  },
  {
   "cell_type": "code",
   "execution_count": null,
   "metadata": {
    "tags": []
   },
   "outputs": [],
   "source": [
    "state_dict"
   ]
  },
  {
   "cell_type": "code",
   "execution_count": null,
   "metadata": {},
   "outputs": [],
   "source": [
    "model_state = {k[6:]: state_dict[k] for k in state_dict if k.startswith('model.')}"
   ]
  },
  {
   "cell_type": "code",
   "execution_count": null,
   "metadata": {},
   "outputs": [],
   "source": [
    "model = hydra.utils.instantiate(cfg.experiment.model)\n",
    "optimizer = hydra.utils.call(cfg.experiment.optimizer, model)\n",
    "\n",
    "lightning_module = S2STercilesModule.load_from_checkpoint(\n",
    "    checkpoint_path, model=model, optimizer=optimizer\n",
    ")"
   ]
  },
  {
   "cell_type": "code",
   "execution_count": null,
   "metadata": {},
   "outputs": [],
   "source": [
    "lightning_module.model"
   ]
  },
  {
   "cell_type": "code",
   "execution_count": null,
   "metadata": {},
   "outputs": [],
   "source": [
    "def params_of_model(model, prefix='', nan_mask=None):\n",
    "    dims = ['model', 'lead_time', 'latitude', 'longitude']\n",
    "    coordinates = {'lead_time': sample.lead_time, 'latitude': sample.latitude, 'longitude': sample.longitude}\n",
    "    \n",
    "    model_weights = []\n",
    "    for k in sorted(model.models):\n",
    "        model_weights.append(model.models[k].weights)\n",
    "    model_weights = torch.stack(model_weights)\n",
    "    model_weights = xr.DataArray(data=model_weights.detach().numpy(), dims=dims, coords=coordinates)\n",
    "    \n",
    "    model_intercept = []\n",
    "    for k in sorted(model.models):\n",
    "        model_intercept.append(model.models[k].intercept)\n",
    "    model_intercept = torch.stack(model_intercept)\n",
    "    model_intercept = xr.DataArray(data=model_intercept.detach().numpy(), dims=dims, coords=coordinates)\n",
    "    \n",
    "    if nan_mask is not None:\n",
    "        model_weights = xr.where(~nan_mask, model_weights, np.nan)\n",
    "        model_intercept = xr.where(~nan_mask, model_intercept, np.nan)\n",
    "        \n",
    "    dataset = xr.Dataset(\n",
    "        data_vars={\n",
    "            f'{prefix}_weights': model_weights,\n",
    "            f'{prefix}_intercept': model_intercept, \n",
    "        }\n",
    "    )\n",
    "    \n",
    "    return dataset"
   ]
  },
  {
   "cell_type": "code",
   "execution_count": null,
   "metadata": {},
   "outputs": [],
   "source": [
    "nan_mask = sample.isnull().any(dim='category_edge')\n",
    "t2m_nan_mask = nan_mask.t2m\n",
    "tp_nan_mask = nan_mask.tp"
   ]
  },
  {
   "cell_type": "code",
   "execution_count": null,
   "metadata": {},
   "outputs": [],
   "source": [
    "params = xr.merge([\n",
    "    params_of_model(model.model.tp_model.loc_model, prefix='tp_loc', nan_mask=tp_nan_mask),\n",
    "    params_of_model(model.model.tp_model.scale_model, prefix='tp_scale', nan_mask=tp_nan_mask),\n",
    "    params_of_model(model.model.t2m_model.loc_model, prefix='t2m_loc', nan_mask=tp_nan_mask),\n",
    "    params_of_model(model.model.t2m_model.scale_model, prefix='t2m_scale', nan_mask=tp_nan_mask),\n",
    "])"
   ]
  },
  {
   "cell_type": "code",
   "execution_count": null,
   "metadata": {},
   "outputs": [],
   "source": [
    "params"
   ]
  },
  {
   "cell_type": "markdown",
   "metadata": {},
   "source": [
    "# Analysis"
   ]
  },
  {
   "cell_type": "code",
   "execution_count": null,
   "metadata": {},
   "outputs": [],
   "source": [
    "params.tp_scale_weights.isel(lead_time=1).plot()"
   ]
  },
  {
   "cell_type": "code",
   "execution_count": null,
   "metadata": {},
   "outputs": [],
   "source": [
    "params.t2m_scale_intercept.isel(lead_time=0).plot()"
   ]
  },
  {
   "cell_type": "code",
   "execution_count": null,
   "metadata": {},
   "outputs": [],
   "source": []
  }
 ],
 "metadata": {
  "kernelspec": {
   "display_name": "Python 3.8.10 64-bit ('s2s': conda)",
   "language": "python",
   "name": "python3810jvsc74a57bd04e02d3ae6a41de67eefc33888370baa60c5c7079ebc54125ad6266af87bcea0a"
  },
  "language_info": {
   "codemirror_mode": {
    "name": "ipython",
    "version": 3
   },
   "file_extension": ".py",
   "mimetype": "text/x-python",
   "name": "python",
   "nbconvert_exporter": "python",
   "pygments_lexer": "ipython3",
   "version": "3.8.12"
  }
 },
 "nbformat": 4,
 "nbformat_minor": 4
}
