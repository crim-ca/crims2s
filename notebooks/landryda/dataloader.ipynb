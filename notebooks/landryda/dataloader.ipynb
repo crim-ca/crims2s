{
 "cells": [
  {
   "cell_type": "code",
   "execution_count": 1,
   "metadata": {},
   "outputs": [],
   "source": [
    "%load_ext autoreload\n",
    "%autoreload 2"
   ]
  },
  {
   "cell_type": "code",
   "execution_count": 2,
   "metadata": {},
   "outputs": [],
   "source": [
    "import hydra\n",
    "import matplotlib.pyplot as plt\n",
    "import torch\n",
    "import torch.nn as nn\n",
    "import xarray as xr"
   ]
  },
  {
   "cell_type": "code",
   "execution_count": 3,
   "metadata": {},
   "outputs": [],
   "source": [
    "from crims2s.dataset import S2SDataset, TransformedDataset\n",
    "from crims2s.training.model.emos import NormalEMOSModel, LinearModel, NormalCubeNormalEMOS\n",
    "from crims2s.training.model.util import PytorchMultiplexer\n",
    "from crims2s.transform import AddLatLonFeature, AddBiweeklyDimTransform, CompositeTransform\n",
    "from crims2s.util import ECMWF_FORECASTS, collate_with_xarray"
   ]
  },
  {
   "cell_type": "code",
   "execution_count": 5,
   "metadata": {},
   "outputs": [],
   "source": [
    "with hydra.initialize_config_module('crims2s.training.conf'):\n",
    "    cfg = hydra.compose('config', overrides=['experiment/dataset=ncep'])"
   ]
  },
  {
   "cell_type": "code",
   "execution_count": 6,
   "metadata": {},
   "outputs": [],
   "source": [
    "t = hydra.utils.instantiate(cfg.experiment.transform)"
   ]
  },
  {
   "cell_type": "code",
   "execution_count": 7,
   "metadata": {},
   "outputs": [
    {
     "data": {
      "text/plain": [
       "CompositeTransform([<crims2s.transform.AddGeographyFeatures object at 0x2accdaf40c10>, <crims2s.transform.AddBiweeklyDimTransform object at 0x2accdafbb850>, <crims2s.transform.LinearModelAdapter object at 0x2accdafbb970>, <crims2s.transform.AddMetadata object at 0x2accdafbb940>, <crims2s.transform.ExampleToPytorch object at 0x2accdafbb700>, <crims2s.transform.CubeRootTP object at 0x2accdafbb730>, <crims2s.transform.AddLatLonFeature object at 0x2accdafbbbe0>])"
      ]
     },
     "execution_count": 7,
     "metadata": {},
     "output_type": "execute_result"
    }
   ],
   "source": [
    "t"
   ]
  },
  {
   "cell_type": "code",
   "execution_count": null,
   "metadata": {},
   "outputs": [],
   "source": [
    "t.transforms = t.transforms[:-3]"
   ]
  },
  {
   "cell_type": "code",
   "execution_count": 8,
   "metadata": {},
   "outputs": [],
   "source": [
    "d = TransformedDataset(S2SDataset(cfg.experiment.dataset.dataset_dir), t)"
   ]
  },
  {
   "cell_type": "code",
   "execution_count": 14,
   "metadata": {},
   "outputs": [
    {
     "data": {
      "text/plain": [
       "['model_parameters_t2m_mu',\n",
       " 'model_parameters_t2m_sigma',\n",
       " 'model_parameters_tp_alpha',\n",
       " 'model_parameters_tp_beta',\n",
       " 'model_parameters_tp_mu',\n",
       " 'model_parameters_tp_sigma',\n",
       " 'model_parameters_tp_cube_root_mu',\n",
       " 'model_parameters_tp_cube_root_sigma']"
      ]
     },
     "execution_count": 14,
     "metadata": {},
     "output_type": "execute_result"
    }
   ],
   "source": [
    "[k for k in d[0].keys() if k.startswith('model_parameters')]"
   ]
  },
  {
   "cell_type": "code",
   "execution_count": 15,
   "metadata": {},
   "outputs": [
    {
     "data": {
      "text/plain": [
       "torch.Size([2, 121, 240])"
      ]
     },
     "execution_count": 15,
     "metadata": {},
     "output_type": "execute_result"
    }
   ],
   "source": [
    "d[0]['model_parameters_t2m_mu'].shape"
   ]
  },
  {
   "cell_type": "code",
   "execution_count": 11,
   "metadata": {},
   "outputs": [
    {
     "data": {
      "text/plain": [
       "torch.Size([6, 121, 240, 11, 17])"
      ]
     },
     "execution_count": 11,
     "metadata": {},
     "output_type": "execute_result"
    }
   ],
   "source": [
    "d[0]['features_features'].shape"
   ]
  },
  {
   "cell_type": "code",
   "execution_count": 16,
   "metadata": {},
   "outputs": [],
   "source": [
    "loader = torch.utils.data.DataLoader(d, batch_size=4, collate_fn=collate_with_xarray)"
   ]
  },
  {
   "cell_type": "code",
   "execution_count": 17,
   "metadata": {},
   "outputs": [],
   "source": [
    "one_batch = next(iter(loader))"
   ]
  },
  {
   "cell_type": "code",
   "execution_count": 18,
   "metadata": {},
   "outputs": [
    {
     "data": {
      "text/plain": [
       "torch.Size([4, 2, 121, 240])"
      ]
     },
     "execution_count": 18,
     "metadata": {},
     "output_type": "execute_result"
    }
   ],
   "source": [
    "one_batch['eccc_parameters_tp_mu'].shape"
   ]
  },
  {
   "cell_type": "code",
   "execution_count": null,
   "metadata": {},
   "outputs": [],
   "source": [
    "next(iter(loader))"
   ]
  },
  {
   "cell_type": "code",
   "execution_count": null,
   "metadata": {},
   "outputs": [],
   "source": []
  }
 ],
 "metadata": {
  "kernelspec": {
   "display_name": "Python 3.8.10 64-bit ('s2s': conda)",
   "language": "python",
   "name": "python3810jvsc74a57bd04e02d3ae6a41de67eefc33888370baa60c5c7079ebc54125ad6266af87bcea0a"
  },
  "language_info": {
   "codemirror_mode": {
    "name": "ipython",
    "version": 3
   },
   "file_extension": ".py",
   "mimetype": "text/x-python",
   "name": "python",
   "nbconvert_exporter": "python",
   "pygments_lexer": "ipython3",
   "version": "3.8.12"
  }
 },
 "nbformat": 4,
 "nbformat_minor": 4
}
